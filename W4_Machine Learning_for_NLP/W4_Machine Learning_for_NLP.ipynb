{
 "cells": [
  {
   "cell_type": "markdown",
   "metadata": {},
   "source": [
    "# SUDO CODE 2025\n",
    "\n",
    "- Name: Nguyễn Anh Đức\n",
    "- Team: 9\n",
    "- ID: 28"
   ]
  },
  {
   "cell_type": "markdown",
   "metadata": {},
   "source": [
    "## Import libs"
   ]
  },
  {
   "cell_type": "code",
   "execution_count": 1,
   "metadata": {},
   "outputs": [],
   "source": [
    "import json\n",
    "import zipfile\n",
    "import pandas as pd\n",
    "import numpy as np\n",
    "import re\n",
    "import requests\n",
    "from collections import Counter\n",
    "import matplotlib.pyplot as plt\n",
    "import nltk\n",
    "from nltk.tokenize import word_tokenize\n",
    "from sklearn.feature_extraction.text import CountVectorizer\n",
    "from sklearn.feature_extraction.text import TfidfVectorizer\n",
    "from sklearn.preprocessing import MultiLabelBinarizer\n",
    "from sklearn.multiclass import OneVsRestClassifier\n",
    "from sklearn.model_selection import train_test_split\n",
    "from sklearn.naive_bayes import MultinomialNB\n",
    "from sklearn.svm import LinearSVC\n",
    "from sklearn.metrics import classification_report, accuracy_score"
   ]
  },
  {
   "cell_type": "markdown",
   "metadata": {},
   "source": [
    "## *vietnamese text classification dataset*"
   ]
  },
  {
   "cell_type": "markdown",
   "metadata": {},
   "source": [
    "## Exploring data"
   ]
  },
  {
   "cell_type": "markdown",
   "metadata": {},
   "source": [
    "### Read rawdata from file"
   ]
  },
  {
   "cell_type": "code",
   "execution_count": 2,
   "metadata": {},
   "outputs": [],
   "source": [
    "df1 = pd.read_csv(\"data/vietnamese-text-classification-dataset/train.csv\", header=None, names=['label', 'text'])"
   ]
  },
  {
   "cell_type": "code",
   "execution_count": 3,
   "metadata": {},
   "outputs": [
    {
     "data": {
      "text/html": [
       "<div>\n",
       "<style scoped>\n",
       "    .dataframe tbody tr th:only-of-type {\n",
       "        vertical-align: middle;\n",
       "    }\n",
       "\n",
       "    .dataframe tbody tr th {\n",
       "        vertical-align: top;\n",
       "    }\n",
       "\n",
       "    .dataframe thead th {\n",
       "        text-align: right;\n",
       "    }\n",
       "</style>\n",
       "<table border=\"1\" class=\"dataframe\">\n",
       "  <thead>\n",
       "    <tr style=\"text-align: right;\">\n",
       "      <th></th>\n",
       "      <th>label</th>\n",
       "      <th>text</th>\n",
       "    </tr>\n",
       "  </thead>\n",
       "  <tbody>\n",
       "    <tr>\n",
       "      <th>0</th>\n",
       "      <td>0</td>\n",
       "      <td>máy dùng hay bị đơ máy</td>\n",
       "    </tr>\n",
       "    <tr>\n",
       "      <th>1</th>\n",
       "      <td>0</td>\n",
       "      <td>chỉ có dây cáp nguồn không có adapter sao sử d...</td>\n",
       "    </tr>\n",
       "    <tr>\n",
       "      <th>2</th>\n",
       "      <td>0</td>\n",
       "      <td>Chất lượng quá kém Mới dùng được 2 ngày loa ba...</td>\n",
       "    </tr>\n",
       "    <tr>\n",
       "      <th>3</th>\n",
       "      <td>0</td>\n",
       "      <td>Usb tôi vừa mới nhận usb này Rất bực bội vì cá...</td>\n",
       "    </tr>\n",
       "    <tr>\n",
       "      <th>4</th>\n",
       "      <td>2</td>\n",
       "      <td>Tuyệt vời. Hàng FPT cửa hàng</td>\n",
       "    </tr>\n",
       "  </tbody>\n",
       "</table>\n",
       "</div>"
      ],
      "text/plain": [
       "   label                                               text\n",
       "0      0                             máy dùng hay bị đơ máy\n",
       "1      0  chỉ có dây cáp nguồn không có adapter sao sử d...\n",
       "2      0  Chất lượng quá kém Mới dùng được 2 ngày loa ba...\n",
       "3      0  Usb tôi vừa mới nhận usb này Rất bực bội vì cá...\n",
       "4      2                       Tuyệt vời. Hàng FPT cửa hàng"
      ]
     },
     "execution_count": 3,
     "metadata": {},
     "output_type": "execute_result"
    }
   ],
   "source": [
    "df1.head()"
   ]
  },
  {
   "cell_type": "markdown",
   "metadata": {},
   "source": [
    "### Number of rows and columns"
   ]
  },
  {
   "cell_type": "code",
   "execution_count": 4,
   "metadata": {},
   "outputs": [
    {
     "name": "stdout",
     "output_type": "stream",
     "text": [
      "(3040, 2)\n"
     ]
    }
   ],
   "source": [
    "shape = df1.shape\n",
    "print(shape)"
   ]
  },
  {
   "cell_type": "markdown",
   "metadata": {},
   "source": [
    "### Check duplicate rows"
   ]
  },
  {
   "cell_type": "code",
   "execution_count": 5,
   "metadata": {},
   "outputs": [
    {
     "name": "stdout",
     "output_type": "stream",
     "text": [
      "40\n"
     ]
    }
   ],
   "source": [
    "num_duplicated_rows = df1.duplicated().sum()\n",
    "print(num_duplicated_rows)"
   ]
  },
  {
   "cell_type": "markdown",
   "metadata": {},
   "source": [
    "### Remove empty data"
   ]
  },
  {
   "cell_type": "code",
   "execution_count": 6,
   "metadata": {},
   "outputs": [],
   "source": [
    "df1 = df1.dropna() \n",
    "df1 = df1[~df1.eq('').any(axis=1)]\n",
    "df1 = df1.reset_index(drop=True)"
   ]
  },
  {
   "cell_type": "code",
   "execution_count": 7,
   "metadata": {},
   "outputs": [
    {
     "name": "stdout",
     "output_type": "stream",
     "text": [
      "(3040, 2)\n"
     ]
    }
   ],
   "source": [
    "print(df1.shape)"
   ]
  },
  {
   "cell_type": "markdown",
   "metadata": {},
   "source": [
    "### Label count"
   ]
  },
  {
   "cell_type": "code",
   "execution_count": 8,
   "metadata": {},
   "outputs": [
    {
     "data": {
      "text/plain": [
       "label\n",
       "0    1105\n",
       "2    1048\n",
       "1     887\n",
       "Name: count, dtype: int64"
      ]
     },
     "execution_count": 8,
     "metadata": {},
     "output_type": "execute_result"
    }
   ],
   "source": [
    "label_counts = df1['label'].value_counts()\n",
    "label_counts"
   ]
  },
  {
   "cell_type": "markdown",
   "metadata": {},
   "source": [
    "## Preprocessing data"
   ]
  },
  {
   "cell_type": "markdown",
   "metadata": {},
   "source": [
    "### Lowercase the content"
   ]
  },
  {
   "cell_type": "code",
   "execution_count": 9,
   "metadata": {},
   "outputs": [
    {
     "data": {
      "text/plain": [
       "0                               máy dùng hay bị đơ máy\n",
       "1    chỉ có dây cáp nguồn không có adapter sao sử d...\n",
       "2    chất lượng quá kém mới dùng được 2 ngày loa ba...\n",
       "3    usb tôi vừa mới nhận usb này rất bực bội vì cá...\n",
       "4                         tuyệt vời. hàng fpt cửa hàng\n",
       "Name: text, dtype: object"
      ]
     },
     "execution_count": 9,
     "metadata": {},
     "output_type": "execute_result"
    }
   ],
   "source": [
    "df1[\"text\"] = df1[\"text\"].str.lower()\n",
    "df1['text'].head()"
   ]
  },
  {
   "cell_type": "markdown",
   "metadata": {},
   "source": [
    "### Remove punctuation"
   ]
  },
  {
   "cell_type": "code",
   "execution_count": 10,
   "metadata": {},
   "outputs": [],
   "source": [
    "df1['text'] = df1['text'].apply(lambda t: re.sub(r'[^\\w\\s]', ' ', t, flags=re.UNICODE))"
   ]
  },
  {
   "cell_type": "markdown",
   "metadata": {},
   "source": [
    "### Remove number"
   ]
  },
  {
   "cell_type": "code",
   "execution_count": 11,
   "metadata": {},
   "outputs": [],
   "source": [
    "df1['text'] = df1['text'].apply(lambda t: re.sub(r'\\d+', ' ', t, flags=re.UNICODE))\n",
    "df1['text'] = df1['text'].apply(lambda t: re.sub(r'\\s+', ' ', t).strip())"
   ]
  },
  {
   "cell_type": "markdown",
   "metadata": {},
   "source": [
    "### Remove special symbols"
   ]
  },
  {
   "cell_type": "code",
   "execution_count": 12,
   "metadata": {},
   "outputs": [],
   "source": [
    "df1['text'] = df1['text'].apply(lambda t: re.sub(r'[^a-zA-ZÀ-ỹ\\s]', ' ', t, flags=re.UNICODE))\n",
    "df1['text'] = df1['text'].apply(lambda t: re.sub(r'\\s+', ' ', t).strip())"
   ]
  },
  {
   "cell_type": "markdown",
   "metadata": {},
   "source": [
    "### Collapse multiple whitespaces and strip"
   ]
  },
  {
   "cell_type": "code",
   "execution_count": 13,
   "metadata": {},
   "outputs": [],
   "source": [
    "df1['text'] = df1['text'].apply(lambda t: re.sub(r'\\s+', ' ', t).strip())"
   ]
  },
  {
   "cell_type": "markdown",
   "metadata": {},
   "source": [
    "### Drop rows that became empty after cleaning and reindex"
   ]
  },
  {
   "cell_type": "code",
   "execution_count": 14,
   "metadata": {},
   "outputs": [
    {
     "data": {
      "text/plain": [
       "(3040, 2)"
      ]
     },
     "execution_count": 14,
     "metadata": {},
     "output_type": "execute_result"
    }
   ],
   "source": [
    "df1 = df1[df1['text'].str.strip() != ''].reset_index(drop=True)\n",
    "df1.shape"
   ]
  },
  {
   "cell_type": "markdown",
   "metadata": {},
   "source": [
    "## Tokenization"
   ]
  },
  {
   "cell_type": "code",
   "execution_count": 15,
   "metadata": {},
   "outputs": [
    {
     "data": {
      "text/html": [
       "<div>\n",
       "<style scoped>\n",
       "    .dataframe tbody tr th:only-of-type {\n",
       "        vertical-align: middle;\n",
       "    }\n",
       "\n",
       "    .dataframe tbody tr th {\n",
       "        vertical-align: top;\n",
       "    }\n",
       "\n",
       "    .dataframe thead th {\n",
       "        text-align: right;\n",
       "    }\n",
       "</style>\n",
       "<table border=\"1\" class=\"dataframe\">\n",
       "  <thead>\n",
       "    <tr style=\"text-align: right;\">\n",
       "      <th></th>\n",
       "      <th>text</th>\n",
       "      <th>tokens</th>\n",
       "    </tr>\n",
       "  </thead>\n",
       "  <tbody>\n",
       "    <tr>\n",
       "      <th>0</th>\n",
       "      <td>máy dùng hay bị đơ máy</td>\n",
       "      <td>[máy, dùng, hay, bị, đơ, máy]</td>\n",
       "    </tr>\n",
       "    <tr>\n",
       "      <th>1</th>\n",
       "      <td>chỉ có dây cáp nguồn không có adapter sao sử d...</td>\n",
       "      <td>[chỉ, có, dây, cáp, nguồn, không, có, adapter,...</td>\n",
       "    </tr>\n",
       "    <tr>\n",
       "      <th>2</th>\n",
       "      <td>chất lượng quá kém mới dùng được ngày loa bass...</td>\n",
       "      <td>[chất, lượng, quá, kém, mới, dùng, được, ngày,...</td>\n",
       "    </tr>\n",
       "    <tr>\n",
       "      <th>3</th>\n",
       "      <td>usb tôi vừa mới nhận usb này rất bực bội vì cá...</td>\n",
       "      <td>[usb, tôi, vừa, mới, nhận, usb, này, rất, bực,...</td>\n",
       "    </tr>\n",
       "    <tr>\n",
       "      <th>4</th>\n",
       "      <td>tuyệt vời hàng fpt cửa hàng</td>\n",
       "      <td>[tuyệt, vời, hàng, fpt, cửa, hàng]</td>\n",
       "    </tr>\n",
       "  </tbody>\n",
       "</table>\n",
       "</div>"
      ],
      "text/plain": [
       "                                                text  \\\n",
       "0                             máy dùng hay bị đơ máy   \n",
       "1  chỉ có dây cáp nguồn không có adapter sao sử d...   \n",
       "2  chất lượng quá kém mới dùng được ngày loa bass...   \n",
       "3  usb tôi vừa mới nhận usb này rất bực bội vì cá...   \n",
       "4                        tuyệt vời hàng fpt cửa hàng   \n",
       "\n",
       "                                              tokens  \n",
       "0                      [máy, dùng, hay, bị, đơ, máy]  \n",
       "1  [chỉ, có, dây, cáp, nguồn, không, có, adapter,...  \n",
       "2  [chất, lượng, quá, kém, mới, dùng, được, ngày,...  \n",
       "3  [usb, tôi, vừa, mới, nhận, usb, này, rất, bực,...  \n",
       "4                 [tuyệt, vời, hàng, fpt, cửa, hàng]  "
      ]
     },
     "execution_count": 15,
     "metadata": {},
     "output_type": "execute_result"
    }
   ],
   "source": [
    "df1['tokens'] = df1['text'].apply(lambda x: word_tokenize(x))\n",
    "df1[['text', 'tokens']].head()"
   ]
  },
  {
   "cell_type": "markdown",
   "metadata": {},
   "source": [
    "## Stopword removal"
   ]
  },
  {
   "cell_type": "code",
   "execution_count": 16,
   "metadata": {},
   "outputs": [
    {
     "name": "stdout",
     "output_type": "stream",
     "text": [
      "Number of stopwords: 1942\n",
      "['vừa rồi', 'bỏ không', 'đánh giá', 'tên chính', 'có dễ', 'nhé', 'giờ đến', 'chẳng nữa', 'thế', 'tuy']\n"
     ]
    }
   ],
   "source": [
    "url = \"https://raw.githubusercontent.com/stopwords/vietnamese-stopwords/master/vietnamese-stopwords.txt\"\n",
    "response = requests.get(url)\n",
    "vi_stopwords = set(response.text.splitlines())\n",
    "\n",
    "print(\"Number of stopwords:\", len(vi_stopwords))\n",
    "print(list(vi_stopwords)[:10])"
   ]
  },
  {
   "cell_type": "code",
   "execution_count": 17,
   "metadata": {},
   "outputs": [
    {
     "data": {
      "text/html": [
       "<div>\n",
       "<style scoped>\n",
       "    .dataframe tbody tr th:only-of-type {\n",
       "        vertical-align: middle;\n",
       "    }\n",
       "\n",
       "    .dataframe tbody tr th {\n",
       "        vertical-align: top;\n",
       "    }\n",
       "\n",
       "    .dataframe thead th {\n",
       "        text-align: right;\n",
       "    }\n",
       "</style>\n",
       "<table border=\"1\" class=\"dataframe\">\n",
       "  <thead>\n",
       "    <tr style=\"text-align: right;\">\n",
       "      <th></th>\n",
       "      <th>tokens</th>\n",
       "      <th>tokens_no_stop</th>\n",
       "    </tr>\n",
       "  </thead>\n",
       "  <tbody>\n",
       "    <tr>\n",
       "      <th>0</th>\n",
       "      <td>[máy, dùng, hay, bị, đơ, máy]</td>\n",
       "      <td>[máy, đơ, máy]</td>\n",
       "    </tr>\n",
       "    <tr>\n",
       "      <th>1</th>\n",
       "      <td>[chỉ, có, dây, cáp, nguồn, không, có, adapter,...</td>\n",
       "      <td>[dây, cáp, adapter, sử, dụng, dây, cáp, adapte...</td>\n",
       "    </tr>\n",
       "    <tr>\n",
       "      <th>2</th>\n",
       "      <td>[chất, lượng, quá, kém, mới, dùng, được, ngày,...</td>\n",
       "      <td>[chất, kém, loa, bass, âm, rè, rè, tưởng, chất]</td>\n",
       "    </tr>\n",
       "    <tr>\n",
       "      <th>3</th>\n",
       "      <td>[usb, tôi, vừa, mới, nhận, usb, này, rất, bực,...</td>\n",
       "      <td>[usb, usb, bực, bội, nắp, usb, cứng, thể, hộp,...</td>\n",
       "    </tr>\n",
       "    <tr>\n",
       "      <th>4</th>\n",
       "      <td>[tuyệt, vời, hàng, fpt, cửa, hàng]</td>\n",
       "      <td>[tuyệt, vời, hàng, fpt, cửa, hàng]</td>\n",
       "    </tr>\n",
       "  </tbody>\n",
       "</table>\n",
       "</div>"
      ],
      "text/plain": [
       "                                              tokens  \\\n",
       "0                      [máy, dùng, hay, bị, đơ, máy]   \n",
       "1  [chỉ, có, dây, cáp, nguồn, không, có, adapter,...   \n",
       "2  [chất, lượng, quá, kém, mới, dùng, được, ngày,...   \n",
       "3  [usb, tôi, vừa, mới, nhận, usb, này, rất, bực,...   \n",
       "4                 [tuyệt, vời, hàng, fpt, cửa, hàng]   \n",
       "\n",
       "                                      tokens_no_stop  \n",
       "0                                     [máy, đơ, máy]  \n",
       "1  [dây, cáp, adapter, sử, dụng, dây, cáp, adapte...  \n",
       "2    [chất, kém, loa, bass, âm, rè, rè, tưởng, chất]  \n",
       "3  [usb, usb, bực, bội, nắp, usb, cứng, thể, hộp,...  \n",
       "4                 [tuyệt, vời, hàng, fpt, cửa, hàng]  "
      ]
     },
     "execution_count": 17,
     "metadata": {},
     "output_type": "execute_result"
    }
   ],
   "source": [
    "def remove_stopwords_vi(tokens, stopwords_set):\n",
    "    return [word for word in tokens if word not in stopwords_set]\n",
    "\n",
    "df1['tokens_no_stop'] = df1['tokens'].apply(lambda x: remove_stopwords_vi(x, vi_stopwords))\n",
    "df1[['tokens', 'tokens_no_stop']].head()"
   ]
  },
  {
   "cell_type": "code",
   "execution_count": 18,
   "metadata": {},
   "outputs": [],
   "source": [
    "df1['text_no_stop'] = df1['tokens_no_stop'].apply(lambda x: \" \".join(x))"
   ]
  },
  {
   "cell_type": "markdown",
   "metadata": {},
   "source": [
    "## Train/Test Split"
   ]
  },
  {
   "cell_type": "code",
   "execution_count": 19,
   "metadata": {},
   "outputs": [],
   "source": [
    "X = df1['text_no_stop']\n",
    "y = df1['label']\n",
    "X_train, X_test, y_train, y_test = train_test_split(\n",
    "    X, y, test_size=0.2, random_state=42, stratify=y)"
   ]
  },
  {
   "cell_type": "markdown",
   "metadata": {},
   "source": [
    "## Feature Extraction"
   ]
  },
  {
   "cell_type": "markdown",
   "metadata": {},
   "source": [
    "### Bag-of-Words"
   ]
  },
  {
   "cell_type": "code",
   "execution_count": 20,
   "metadata": {},
   "outputs": [
    {
     "name": "stdout",
     "output_type": "stream",
     "text": [
      "Shape of BOW matrix: (2432, 2317)\n",
      "First 10 BOW features: ['aa', 'abc', 'ac', 'ace', 'active', 'ad', 'adapter', 'admin', 'ads', 'advance']\n"
     ]
    }
   ],
   "source": [
    "bow_vectorizer = CountVectorizer()\n",
    "X_train_bow = bow_vectorizer.fit_transform(X_train)\n",
    "X_test_bow = bow_vectorizer.transform(X_test)\n",
    "\n",
    "print(\"Shape of BOW matrix:\", X_train_bow.shape)\n",
    "print(\"First 10 BOW features:\", list(bow_vectorizer.get_feature_names_out())[:10])"
   ]
  },
  {
   "cell_type": "markdown",
   "metadata": {},
   "source": [
    "### TF-IDF"
   ]
  },
  {
   "cell_type": "code",
   "execution_count": 21,
   "metadata": {},
   "outputs": [
    {
     "name": "stdout",
     "output_type": "stream",
     "text": [
      "Shape of TF-IDF matrix: (2432, 2317)\n",
      "First 10 TF-IDF features: ['aa', 'abc', 'ac', 'ace', 'active', 'ad', 'adapter', 'admin', 'ads', 'advance']\n"
     ]
    }
   ],
   "source": [
    "tfidf_vectorizer = TfidfVectorizer()\n",
    "X_train_tfidf = tfidf_vectorizer.fit_transform(X_train)\n",
    "X_test_tfidf = tfidf_vectorizer.transform(X_test)\n",
    "\n",
    "print(\"Shape of TF-IDF matrix:\", X_train_tfidf.shape)\n",
    "print(\"First 10 TF-IDF features:\", list(tfidf_vectorizer.get_feature_names_out())[:10])"
   ]
  },
  {
   "cell_type": "markdown",
   "metadata": {},
   "source": [
    "## Training and Evaluating"
   ]
  },
  {
   "cell_type": "markdown",
   "metadata": {},
   "source": [
    "### BoW + Naive Bayes"
   ]
  },
  {
   "cell_type": "code",
   "execution_count": 22,
   "metadata": {},
   "outputs": [
    {
     "name": "stdout",
     "output_type": "stream",
     "text": [
      "=== BoW + Naive Bayes ===\n",
      "              precision    recall  f1-score   support\n",
      "\n",
      "           0       0.74      0.79      0.76       221\n",
      "           1       0.64      0.52      0.57       177\n",
      "           2       0.75      0.81      0.78       210\n",
      "\n",
      "    accuracy                           0.72       608\n",
      "   macro avg       0.71      0.71      0.70       608\n",
      "weighted avg       0.71      0.72      0.71       608\n",
      "\n"
     ]
    }
   ],
   "source": [
    "results = {}\n",
    "nb_bow = MultinomialNB()\n",
    "nb_bow.fit(X_train_bow, y_train)\n",
    "y_pred = nb_bow.predict(X_test_bow)\n",
    "results[\"BoW + NB\"] = accuracy_score(y_test, y_pred)\n",
    "print(\"=== BoW + Naive Bayes ===\")\n",
    "print(classification_report(y_test, y_pred))"
   ]
  },
  {
   "cell_type": "markdown",
   "metadata": {},
   "source": [
    "### BoW + SVM"
   ]
  },
  {
   "cell_type": "code",
   "execution_count": 23,
   "metadata": {},
   "outputs": [
    {
     "name": "stdout",
     "output_type": "stream",
     "text": [
      "=== BoW + SVM ===\n",
      "              precision    recall  f1-score   support\n",
      "\n",
      "           0       0.69      0.77      0.73       221\n",
      "           1       0.60      0.55      0.57       177\n",
      "           2       0.77      0.74      0.75       210\n",
      "\n",
      "    accuracy                           0.69       608\n",
      "   macro avg       0.69      0.69      0.69       608\n",
      "weighted avg       0.69      0.69      0.69       608\n",
      "\n"
     ]
    }
   ],
   "source": [
    "svm_bow = LinearSVC()\n",
    "svm_bow.fit(X_train_bow, y_train)\n",
    "y_pred = svm_bow.predict(X_test_bow)\n",
    "results[\"BoW + SVM\"] = accuracy_score(y_test, y_pred)\n",
    "print(\"=== BoW + SVM ===\")\n",
    "print(classification_report(y_test, y_pred))"
   ]
  },
  {
   "cell_type": "markdown",
   "metadata": {},
   "source": [
    "### TF-IDF + Naive Bayes"
   ]
  },
  {
   "cell_type": "code",
   "execution_count": 24,
   "metadata": {},
   "outputs": [
    {
     "name": "stdout",
     "output_type": "stream",
     "text": [
      "=== TF-IDF + Naive Bayes ===\n",
      "              precision    recall  f1-score   support\n",
      "\n",
      "           0       0.70      0.82      0.76       221\n",
      "           1       0.68      0.41      0.51       177\n",
      "           2       0.74      0.85      0.79       210\n",
      "\n",
      "    accuracy                           0.71       608\n",
      "   macro avg       0.71      0.69      0.69       608\n",
      "weighted avg       0.71      0.71      0.70       608\n",
      "\n"
     ]
    }
   ],
   "source": [
    "nb_tfidf = MultinomialNB()\n",
    "nb_tfidf.fit(X_train_tfidf, y_train)\n",
    "y_pred = nb_tfidf.predict(X_test_tfidf)\n",
    "results[\"TF-IDF + NB\"] = accuracy_score(y_test, y_pred)\n",
    "print(\"=== TF-IDF + Naive Bayes ===\")\n",
    "print(classification_report(y_test, y_pred))"
   ]
  },
  {
   "cell_type": "markdown",
   "metadata": {},
   "source": [
    "### TF-IDF + SVM"
   ]
  },
  {
   "cell_type": "code",
   "execution_count": 25,
   "metadata": {},
   "outputs": [
    {
     "name": "stdout",
     "output_type": "stream",
     "text": [
      "=== TF-IDF + SVM ===\n",
      "              precision    recall  f1-score   support\n",
      "\n",
      "           0       0.70      0.79      0.74       221\n",
      "           1       0.66      0.54      0.60       177\n",
      "           2       0.80      0.82      0.81       210\n",
      "\n",
      "    accuracy                           0.73       608\n",
      "   macro avg       0.72      0.72      0.72       608\n",
      "weighted avg       0.72      0.73      0.72       608\n",
      "\n"
     ]
    }
   ],
   "source": [
    "svm_tfidf = LinearSVC()\n",
    "svm_tfidf.fit(X_train_tfidf, y_train)\n",
    "y_pred = svm_tfidf.predict(X_test_tfidf)\n",
    "results[\"TF-IDF + SVM\"] = accuracy_score(y_test, y_pred)\n",
    "print(\"=== TF-IDF + SVM ===\")\n",
    "print(classification_report(y_test, y_pred))"
   ]
  },
  {
   "cell_type": "markdown",
   "metadata": {},
   "source": [
    "## Result Visualization"
   ]
  },
  {
   "cell_type": "code",
   "execution_count": 26,
   "metadata": {},
   "outputs": [
    {
     "data": {
      "image/png": "[encoded data removed]",
      "text/plain": [
       "<Figure size 640x480 with 1 Axes>"
      ]
     },
     "metadata": {},
     "output_type": "display_data"
    }
   ],
   "source": [
    "plt.bar(results.keys(), results.values())\n",
    "plt.ylabel(\"Accuracy\")\n",
    "plt.title(\"Comparison of Feature + Model Combinations\")\n",
    "plt.xticks(rotation=45)\n",
    "plt.show()"
   ]
  },
  {
   "cell_type": "markdown",
   "metadata": {},
   "source": [
    "## *UIT-ViSFD*"
   ]
  },
  {
   "cell_type": "markdown",
   "metadata": {},
   "source": [
    "## Exploring data"
   ]
  },
  {
   "cell_type": "markdown",
   "metadata": {},
   "source": [
    "### Read raw data from file"
   ]
  },
  {
   "cell_type": "code",
   "execution_count": 27,
   "metadata": {},
   "outputs": [],
   "source": [
    "zip_file_path = 'data/UIT-ViSFD/UIT-ViSFD.zip'\n",
    "extraction_path = 'data/UIT-ViSFD'\n",
    "\n",
    "with zipfile.ZipFile(zip_file_path, 'r') as zip_ref:\n",
    "    zip_ref.extractall(extraction_path)"
   ]
  },
  {
   "cell_type": "code",
   "execution_count": 28,
   "metadata": {},
   "outputs": [],
   "source": [
    "df_train = pd.read_csv(\"data/UIT-ViSFD/Train.csv\")\n",
    "df_dev = pd.read_csv(\"data/UIT-ViSFD/Dev.csv\")\n",
    "df_test = pd.read_csv(\"data/UIT-ViSFD/Test.csv\")"
   ]
  },
  {
   "cell_type": "markdown",
   "metadata": {},
   "source": [
    "### Concate dev and test"
   ]
  },
  {
   "cell_type": "code",
   "execution_count": 29,
   "metadata": {},
   "outputs": [
    {
     "name": "stdout",
     "output_type": "stream",
     "text": [
      "3336\n"
     ]
    },
    {
     "data": {
      "text/html": [
       "<div>\n",
       "<style scoped>\n",
       "    .dataframe tbody tr th:only-of-type {\n",
       "        vertical-align: middle;\n",
       "    }\n",
       "\n",
       "    .dataframe tbody tr th {\n",
       "        vertical-align: top;\n",
       "    }\n",
       "\n",
       "    .dataframe thead th {\n",
       "        text-align: right;\n",
       "    }\n",
       "</style>\n",
       "<table border=\"1\" class=\"dataframe\">\n",
       "  <thead>\n",
       "    <tr style=\"text-align: right;\">\n",
       "      <th></th>\n",
       "      <th>index</th>\n",
       "      <th>comment</th>\n",
       "      <th>n_star</th>\n",
       "      <th>date_time</th>\n",
       "      <th>label</th>\n",
       "    </tr>\n",
       "  </thead>\n",
       "  <tbody>\n",
       "    <tr>\n",
       "      <th>0</th>\n",
       "      <td>0</td>\n",
       "      <td>Máy ok, k chê điểm nào, chính thức là fans ViV...</td>\n",
       "      <td>5</td>\n",
       "      <td>9/7/2020</td>\n",
       "      <td>{GENERAL#Positive};{SER&amp;ACC#Positive};</td>\n",
       "    </tr>\n",
       "    <tr>\n",
       "      <th>1</th>\n",
       "      <td>1</td>\n",
       "      <td>Mới sài được 3 ngày sản phẩm thì khá là ok , l...</td>\n",
       "      <td>5</td>\n",
       "      <td>4/5/2020</td>\n",
       "      <td>{CAMERA#Positive};{FEATURES#Negative};{BATTERY...</td>\n",
       "    </tr>\n",
       "    <tr>\n",
       "      <th>2</th>\n",
       "      <td>2</td>\n",
       "      <td>Dùng tốt chơi game bao mượt không nóng như lời...</td>\n",
       "      <td>5</td>\n",
       "      <td>14/12/2019</td>\n",
       "      <td>{BATTERY#Positive};{PERFORMANCE#Positive};{GEN...</td>\n",
       "    </tr>\n",
       "    <tr>\n",
       "      <th>3</th>\n",
       "      <td>3</td>\n",
       "      <td>Có ai giống mh kg, mh mua ip 7 plus , mấy bị h...</td>\n",
       "      <td>3</td>\n",
       "      <td>7/3/2019</td>\n",
       "      <td>{DESIGN#Negative};{OTHERS};</td>\n",
       "    </tr>\n",
       "    <tr>\n",
       "      <th>4</th>\n",
       "      <td>4</td>\n",
       "      <td>Ko bjk ngày mai có ra đổi đc ko đây. Mới mua h...</td>\n",
       "      <td>2</td>\n",
       "      <td>29/03/2020</td>\n",
       "      <td>{PERFORMANCE#Negative};{OTHERS};</td>\n",
       "    </tr>\n",
       "  </tbody>\n",
       "</table>\n",
       "</div>"
      ],
      "text/plain": [
       "   index                                            comment  n_star  \\\n",
       "0      0  Máy ok, k chê điểm nào, chính thức là fans ViV...       5   \n",
       "1      1  Mới sài được 3 ngày sản phẩm thì khá là ok , l...       5   \n",
       "2      2  Dùng tốt chơi game bao mượt không nóng như lời...       5   \n",
       "3      3  Có ai giống mh kg, mh mua ip 7 plus , mấy bị h...       3   \n",
       "4      4  Ko bjk ngày mai có ra đổi đc ko đây. Mới mua h...       2   \n",
       "\n",
       "    date_time                                              label  \n",
       "0    9/7/2020             {GENERAL#Positive};{SER&ACC#Positive};  \n",
       "1    4/5/2020  {CAMERA#Positive};{FEATURES#Negative};{BATTERY...  \n",
       "2  14/12/2019  {BATTERY#Positive};{PERFORMANCE#Positive};{GEN...  \n",
       "3    7/3/2019                        {DESIGN#Negative};{OTHERS};  \n",
       "4  29/03/2020                   {PERFORMANCE#Negative};{OTHERS};  "
      ]
     },
     "execution_count": 29,
     "metadata": {},
     "output_type": "execute_result"
    }
   ],
   "source": [
    "df_test_concat = pd.concat([df_dev, df_test], ignore_index=True)\n",
    "print(len(df_test_concat))\n",
    "df_test_concat.head()"
   ]
  },
  {
   "cell_type": "code",
   "execution_count": 30,
   "metadata": {},
   "outputs": [],
   "source": [
    "df_train = df_train.drop(['index'], axis=1)\n",
    "df_test_concat = df_test_concat.drop(['index'], axis=1)"
   ]
  },
  {
   "cell_type": "markdown",
   "metadata": {},
   "source": [
    "### Number of rows and columns"
   ]
  },
  {
   "cell_type": "code",
   "execution_count": 31,
   "metadata": {},
   "outputs": [
    {
     "name": "stdout",
     "output_type": "stream",
     "text": [
      "(7786, 4)\n",
      "(3336, 4)\n"
     ]
    }
   ],
   "source": [
    "print(df_train.shape)\n",
    "print(df_test_concat.shape)"
   ]
  },
  {
   "cell_type": "markdown",
   "metadata": {},
   "source": [
    "### Check duplicate rows"
   ]
  },
  {
   "cell_type": "code",
   "execution_count": 32,
   "metadata": {},
   "outputs": [
    {
     "name": "stdout",
     "output_type": "stream",
     "text": [
      "0\n"
     ]
    }
   ],
   "source": [
    "num_duplicated_rows = df_train.duplicated().sum()\n",
    "print(num_duplicated_rows)"
   ]
  },
  {
   "cell_type": "markdown",
   "metadata": {},
   "source": [
    "### Remove empty data"
   ]
  },
  {
   "cell_type": "code",
   "execution_count": 33,
   "metadata": {},
   "outputs": [],
   "source": [
    "df_train = df_train.dropna() \n",
    "df_train = df_train[~df_train.eq('').any(axis=1)]\n",
    "df_train = df_train.reset_index(drop=True)\n",
    "\n",
    "df_test_concat = df_test_concat.dropna() \n",
    "df_test_concat = df_test_concat[~df_test_concat.eq('').any(axis=1)]\n",
    "df_test_concat = df_test_concat.reset_index(drop=True)"
   ]
  },
  {
   "cell_type": "code",
   "execution_count": 34,
   "metadata": {},
   "outputs": [
    {
     "name": "stdout",
     "output_type": "stream",
     "text": [
      "(7786, 4)\n",
      "(3336, 4)\n"
     ]
    }
   ],
   "source": [
    "print(df_train.shape)\n",
    "print(df_test_concat.shape)"
   ]
  },
  {
   "cell_type": "markdown",
   "metadata": {},
   "source": [
    "### Label count"
   ]
  },
  {
   "cell_type": "code",
   "execution_count": 35,
   "metadata": {},
   "outputs": [
    {
     "data": {
      "text/plain": [
       "label\n",
       "{FEATURES#Negative};                                                                                 141\n",
       "{PERFORMANCE#Negative};                                                                              120\n",
       "{BATTERY#Negative};                                                                                  119\n",
       "{OTHERS};                                                                                            115\n",
       "{GENERAL#Positive};{SER&ACC#Positive};                                                                86\n",
       "                                                                                                    ... \n",
       "{CAMERA#Negative};{BATTERY#Negative};{PERFORMANCE#Positive};{GENERAL#Neutral};{SER&ACC#Negative};      1\n",
       "{SCREEN#Negative};{FEATURES#Negative};{GENERAL#Negative};{SER&ACC#Positive};                           1\n",
       "{DESIGN#Neutral};{GENERAL#Negative};                                                                   1\n",
       "{CAMERA#Positive};{FEATURES#Negative};{BATTERY#Positive};{OTHERS};                                     1\n",
       "{FEATURES#Negative};{PERFORMANCE#Negative};{PRICE#Positive};                                           1\n",
       "Name: count, Length: 2745, dtype: int64"
      ]
     },
     "execution_count": 35,
     "metadata": {},
     "output_type": "execute_result"
    }
   ],
   "source": [
    "label_counts = df_train['label'].value_counts()\n",
    "label_counts"
   ]
  },
  {
   "cell_type": "markdown",
   "metadata": {},
   "source": [
    "## Preprocessing data"
   ]
  },
  {
   "cell_type": "markdown",
   "metadata": {},
   "source": [
    "### Lowercase the content"
   ]
  },
  {
   "cell_type": "code",
   "execution_count": 36,
   "metadata": {},
   "outputs": [],
   "source": [
    "df_train[\"comment\"] = df_train[\"comment\"].str.lower()\n",
    "df_test_concat[\"comment\"] = df_test_concat[\"comment\"].str.lower()"
   ]
  },
  {
   "cell_type": "markdown",
   "metadata": {},
   "source": [
    "### Remove punctuation"
   ]
  },
  {
   "cell_type": "code",
   "execution_count": 37,
   "metadata": {},
   "outputs": [],
   "source": [
    "df_train['comment'] = df_train['comment'].apply(lambda t: re.sub(r'[^\\w\\s]', ' ', t, flags=re.UNICODE))\n",
    "df_test_concat['comment'] = df_test_concat['comment'].apply(lambda t: re.sub(r'[^\\w\\s]', ' ', t, flags=re.UNICODE))"
   ]
  },
  {
   "cell_type": "markdown",
   "metadata": {},
   "source": [
    "### Remove number"
   ]
  },
  {
   "cell_type": "code",
   "execution_count": 38,
   "metadata": {},
   "outputs": [],
   "source": [
    "df_train['comment'] = df_train['comment'].apply(lambda t: re.sub(r'\\d+', ' ', t, flags=re.UNICODE))\n",
    "df_train['comment'] = df_train['comment'].apply(lambda t: re.sub(r'\\s+', ' ', t).strip())\n",
    "df_test_concat['comment'] = df_test_concat['comment'].apply(lambda t: re.sub(r'\\d+', ' ', t, flags=re.UNICODE))\n",
    "df_test_concat['comment'] = df_test_concat['comment'].apply(lambda t: re.sub(r'\\s+', ' ', t).strip())"
   ]
  },
  {
   "cell_type": "markdown",
   "metadata": {},
   "source": [
    "### Remove special symbols"
   ]
  },
  {
   "cell_type": "code",
   "execution_count": 39,
   "metadata": {},
   "outputs": [],
   "source": [
    "df_train['comment'] = df_train['comment'].apply(lambda t: re.sub(r'[^a-zA-ZÀ-ỹ\\s]', ' ', t, flags=re.UNICODE))\n",
    "df_train['comment'] = df_train['comment'].apply(lambda t: re.sub(r'\\s+', ' ', t).strip())\n",
    "df_test_concat['comment'] = df_test_concat['comment'].apply(lambda t: re.sub(r'[^a-zA-ZÀ-ỹ\\s]', ' ', t, flags=re.UNICODE))\n",
    "df_test_concat['comment'] = df_test_concat['comment'].apply(lambda t: re.sub(r'\\s+', ' ', t).strip())"
   ]
  },
  {
   "cell_type": "markdown",
   "metadata": {},
   "source": [
    "### Collapse multiple whitespaces and strip"
   ]
  },
  {
   "cell_type": "code",
   "execution_count": 40,
   "metadata": {},
   "outputs": [],
   "source": [
    "df_train['comment'] = df_train['comment'].apply(lambda t: re.sub(r'\\s+', ' ', t).strip())\n",
    "df_test_concat['comment'] = df_test_concat['comment'].apply(lambda t: re.sub(r'\\s+', ' ', t).strip())"
   ]
  },
  {
   "cell_type": "markdown",
   "metadata": {},
   "source": [
    "### Drop rows that became empty after cleaning and reindex"
   ]
  },
  {
   "cell_type": "code",
   "execution_count": 41,
   "metadata": {},
   "outputs": [
    {
     "name": "stdout",
     "output_type": "stream",
     "text": [
      "(7786, 4)\n",
      "(3336, 4)\n"
     ]
    }
   ],
   "source": [
    "df_train = df_train[df_train['comment'].str.strip() != ''].reset_index(drop=True)\n",
    "df_test_concat = df_test_concat[df_test_concat['comment'].str.strip() != ''].reset_index(drop=True)\n",
    "print(df_train.shape)\n",
    "print(df_test_concat.shape)"
   ]
  },
  {
   "cell_type": "markdown",
   "metadata": {},
   "source": [
    "### Process label list"
   ]
  },
  {
   "cell_type": "code",
   "execution_count": 42,
   "metadata": {},
   "outputs": [
    {
     "data": {
      "text/html": [
       "<div>\n",
       "<style scoped>\n",
       "    .dataframe tbody tr th:only-of-type {\n",
       "        vertical-align: middle;\n",
       "    }\n",
       "\n",
       "    .dataframe tbody tr th {\n",
       "        vertical-align: top;\n",
       "    }\n",
       "\n",
       "    .dataframe thead th {\n",
       "        text-align: right;\n",
       "    }\n",
       "</style>\n",
       "<table border=\"1\" class=\"dataframe\">\n",
       "  <thead>\n",
       "    <tr style=\"text-align: right;\">\n",
       "      <th></th>\n",
       "      <th>comment</th>\n",
       "      <th>n_star</th>\n",
       "      <th>date_time</th>\n",
       "      <th>label</th>\n",
       "      <th>label_list</th>\n",
       "    </tr>\n",
       "  </thead>\n",
       "  <tbody>\n",
       "    <tr>\n",
       "      <th>0</th>\n",
       "      <td>mới mua máy này tại thegioididong thốt nốt cảm...</td>\n",
       "      <td>5</td>\n",
       "      <td>2 tuần trước</td>\n",
       "      <td>{CAMERA#Positive};{FEATURES#Positive};{BATTERY...</td>\n",
       "      <td>[CAMERA#Positive, FEATURES#Positive, BATTERY#P...</td>\n",
       "    </tr>\n",
       "    <tr>\n",
       "      <th>1</th>\n",
       "      <td>pin kém còn lại miễn chê mua tình trạng pin cò...</td>\n",
       "      <td>5</td>\n",
       "      <td>14/09/2019</td>\n",
       "      <td>{BATTERY#Negative};{GENERAL#Positive};{OTHERS};</td>\n",
       "      <td>[BATTERY#Negative, GENERAL#Positive, OTHERS]</td>\n",
       "    </tr>\n",
       "    <tr>\n",
       "      <th>2</th>\n",
       "      <td>sao lúc gọi điện thoại màn hình bị chấm nhỏ nh...</td>\n",
       "      <td>3</td>\n",
       "      <td>17/08/2020</td>\n",
       "      <td>{FEATURES#Negative};</td>\n",
       "      <td>[FEATURES#Negative]</td>\n",
       "    </tr>\n",
       "    <tr>\n",
       "      <th>3</th>\n",
       "      <td>mọi người cập nhật phần mềm lại nó sẽ bớt tốn ...</td>\n",
       "      <td>3</td>\n",
       "      <td>29/02/2020</td>\n",
       "      <td>{FEATURES#Negative};{BATTERY#Neutral};{GENERAL...</td>\n",
       "      <td>[FEATURES#Negative, BATTERY#Neutral, GENERAL#N...</td>\n",
       "    </tr>\n",
       "    <tr>\n",
       "      <th>4</th>\n",
       "      <td>mới mua sài được tháng thấy pin rất trâu sài b...</td>\n",
       "      <td>5</td>\n",
       "      <td>4/6/2020</td>\n",
       "      <td>{BATTERY#Positive};{PERFORMANCE#Positive};{SER...</td>\n",
       "      <td>[BATTERY#Positive, PERFORMANCE#Positive, SER&amp;A...</td>\n",
       "    </tr>\n",
       "  </tbody>\n",
       "</table>\n",
       "</div>"
      ],
      "text/plain": [
       "                                             comment  n_star     date_time  \\\n",
       "0  mới mua máy này tại thegioididong thốt nốt cảm...       5  2 tuần trước   \n",
       "1  pin kém còn lại miễn chê mua tình trạng pin cò...       5    14/09/2019   \n",
       "2  sao lúc gọi điện thoại màn hình bị chấm nhỏ nh...       3    17/08/2020   \n",
       "3  mọi người cập nhật phần mềm lại nó sẽ bớt tốn ...       3    29/02/2020   \n",
       "4  mới mua sài được tháng thấy pin rất trâu sài b...       5      4/6/2020   \n",
       "\n",
       "                                               label  \\\n",
       "0  {CAMERA#Positive};{FEATURES#Positive};{BATTERY...   \n",
       "1    {BATTERY#Negative};{GENERAL#Positive};{OTHERS};   \n",
       "2                               {FEATURES#Negative};   \n",
       "3  {FEATURES#Negative};{BATTERY#Neutral};{GENERAL...   \n",
       "4  {BATTERY#Positive};{PERFORMANCE#Positive};{SER...   \n",
       "\n",
       "                                          label_list  \n",
       "0  [CAMERA#Positive, FEATURES#Positive, BATTERY#P...  \n",
       "1       [BATTERY#Negative, GENERAL#Positive, OTHERS]  \n",
       "2                                [FEATURES#Negative]  \n",
       "3  [FEATURES#Negative, BATTERY#Neutral, GENERAL#N...  \n",
       "4  [BATTERY#Positive, PERFORMANCE#Positive, SER&A...  "
      ]
     },
     "execution_count": 42,
     "metadata": {},
     "output_type": "execute_result"
    }
   ],
   "source": [
    "df_train['label_list'] = df_train['label'].apply(\n",
    "    lambda x: [lbl.strip('{}') for lbl in x.split(';') if lbl])\n",
    "df_test_concat['label_list'] = df_test_concat['label'].apply(\n",
    "    lambda x: [lbl.strip('{}') for lbl in x.split(';') if lbl])\n",
    "df_train.head()"
   ]
  },
  {
   "cell_type": "markdown",
   "metadata": {},
   "source": [
    "## Tokenization"
   ]
  },
  {
   "cell_type": "code",
   "execution_count": 43,
   "metadata": {},
   "outputs": [
    {
     "data": {
      "text/html": [
       "<div>\n",
       "<style scoped>\n",
       "    .dataframe tbody tr th:only-of-type {\n",
       "        vertical-align: middle;\n",
       "    }\n",
       "\n",
       "    .dataframe tbody tr th {\n",
       "        vertical-align: top;\n",
       "    }\n",
       "\n",
       "    .dataframe thead th {\n",
       "        text-align: right;\n",
       "    }\n",
       "</style>\n",
       "<table border=\"1\" class=\"dataframe\">\n",
       "  <thead>\n",
       "    <tr style=\"text-align: right;\">\n",
       "      <th></th>\n",
       "      <th>comment</th>\n",
       "      <th>tokens</th>\n",
       "    </tr>\n",
       "  </thead>\n",
       "  <tbody>\n",
       "    <tr>\n",
       "      <th>0</th>\n",
       "      <td>mới mua máy này tại thegioididong thốt nốt cảm...</td>\n",
       "      <td>[mới, mua, máy, này, tại, thegioididong, thốt,...</td>\n",
       "    </tr>\n",
       "    <tr>\n",
       "      <th>1</th>\n",
       "      <td>pin kém còn lại miễn chê mua tình trạng pin cò...</td>\n",
       "      <td>[pin, kém, còn, lại, miễn, chê, mua, tình, trạ...</td>\n",
       "    </tr>\n",
       "    <tr>\n",
       "      <th>2</th>\n",
       "      <td>sao lúc gọi điện thoại màn hình bị chấm nhỏ nh...</td>\n",
       "      <td>[sao, lúc, gọi, điện, thoại, màn, hình, bị, ch...</td>\n",
       "    </tr>\n",
       "    <tr>\n",
       "      <th>3</th>\n",
       "      <td>mọi người cập nhật phần mềm lại nó sẽ bớt tốn ...</td>\n",
       "      <td>[mọi, người, cập, nhật, phần, mềm, lại, nó, sẽ...</td>\n",
       "    </tr>\n",
       "    <tr>\n",
       "      <th>4</th>\n",
       "      <td>mới mua sài được tháng thấy pin rất trâu sài b...</td>\n",
       "      <td>[mới, mua, sài, được, tháng, thấy, pin, rất, t...</td>\n",
       "    </tr>\n",
       "  </tbody>\n",
       "</table>\n",
       "</div>"
      ],
      "text/plain": [
       "                                             comment  \\\n",
       "0  mới mua máy này tại thegioididong thốt nốt cảm...   \n",
       "1  pin kém còn lại miễn chê mua tình trạng pin cò...   \n",
       "2  sao lúc gọi điện thoại màn hình bị chấm nhỏ nh...   \n",
       "3  mọi người cập nhật phần mềm lại nó sẽ bớt tốn ...   \n",
       "4  mới mua sài được tháng thấy pin rất trâu sài b...   \n",
       "\n",
       "                                              tokens  \n",
       "0  [mới, mua, máy, này, tại, thegioididong, thốt,...  \n",
       "1  [pin, kém, còn, lại, miễn, chê, mua, tình, trạ...  \n",
       "2  [sao, lúc, gọi, điện, thoại, màn, hình, bị, ch...  \n",
       "3  [mọi, người, cập, nhật, phần, mềm, lại, nó, sẽ...  \n",
       "4  [mới, mua, sài, được, tháng, thấy, pin, rất, t...  "
      ]
     },
     "execution_count": 43,
     "metadata": {},
     "output_type": "execute_result"
    }
   ],
   "source": [
    "df_train['tokens'] = df_train['comment'].apply(lambda x: word_tokenize(x))\n",
    "df_test_concat['tokens'] = df_test_concat['comment'].apply(lambda x: word_tokenize(x))\n",
    "df_train[['comment', 'tokens']].head()"
   ]
  },
  {
   "cell_type": "markdown",
   "metadata": {},
   "source": [
    "## Stopword removal"
   ]
  },
  {
   "cell_type": "code",
   "execution_count": 44,
   "metadata": {},
   "outputs": [
    {
     "name": "stdout",
     "output_type": "stream",
     "text": [
      "Number of stopwords: 1942\n",
      "['vừa rồi', 'bỏ không', 'đánh giá', 'tên chính', 'có dễ', 'nhé', 'giờ đến', 'chẳng nữa', 'thế', 'tuy']\n"
     ]
    }
   ],
   "source": [
    "url = \"https://raw.githubusercontent.com/stopwords/vietnamese-stopwords/master/vietnamese-stopwords.txt\"\n",
    "response = requests.get(url)\n",
    "vi_stopwords = set(response.text.splitlines())\n",
    "\n",
    "print(\"Number of stopwords:\", len(vi_stopwords))\n",
    "print(list(vi_stopwords)[:10])"
   ]
  },
  {
   "cell_type": "code",
   "execution_count": 45,
   "metadata": {},
   "outputs": [
    {
     "data": {
      "text/html": [
       "<div>\n",
       "<style scoped>\n",
       "    .dataframe tbody tr th:only-of-type {\n",
       "        vertical-align: middle;\n",
       "    }\n",
       "\n",
       "    .dataframe tbody tr th {\n",
       "        vertical-align: top;\n",
       "    }\n",
       "\n",
       "    .dataframe thead th {\n",
       "        text-align: right;\n",
       "    }\n",
       "</style>\n",
       "<table border=\"1\" class=\"dataframe\">\n",
       "  <thead>\n",
       "    <tr style=\"text-align: right;\">\n",
       "      <th></th>\n",
       "      <th>tokens</th>\n",
       "      <th>tokens_no_stop</th>\n",
       "    </tr>\n",
       "  </thead>\n",
       "  <tbody>\n",
       "    <tr>\n",
       "      <th>0</th>\n",
       "      <td>[mới, mua, máy, này, tại, thegioididong, thốt,...</td>\n",
       "      <td>[mua, máy, thegioididong, nốt, cảm, ok, bin, t...</td>\n",
       "    </tr>\n",
       "    <tr>\n",
       "      <th>1</th>\n",
       "      <td>[pin, kém, còn, lại, miễn, chê, mua, tình, trạ...</td>\n",
       "      <td>[pin, kém, miễn, chê, mua, tình, trạng, pin]</td>\n",
       "    </tr>\n",
       "    <tr>\n",
       "      <th>2</th>\n",
       "      <td>[sao, lúc, gọi, điện, thoại, màn, hình, bị, ch...</td>\n",
       "      <td>[gọi, điện, thoại, màn, hình, chấm, nháy, camera]</td>\n",
       "    </tr>\n",
       "    <tr>\n",
       "      <th>3</th>\n",
       "      <td>[mọi, người, cập, nhật, phần, mềm, lại, nó, sẽ...</td>\n",
       "      <td>[cập, nhật, mềm, bớt, tốn, pin, thử, ok, vân, ...</td>\n",
       "    </tr>\n",
       "    <tr>\n",
       "      <th>4</th>\n",
       "      <td>[mới, mua, sài, được, tháng, thấy, pin, rất, t...</td>\n",
       "      <td>[mua, sài, pin, trâu, sài, bao, mượt, lỗi, nhạ...</td>\n",
       "    </tr>\n",
       "  </tbody>\n",
       "</table>\n",
       "</div>"
      ],
      "text/plain": [
       "                                              tokens  \\\n",
       "0  [mới, mua, máy, này, tại, thegioididong, thốt,...   \n",
       "1  [pin, kém, còn, lại, miễn, chê, mua, tình, trạ...   \n",
       "2  [sao, lúc, gọi, điện, thoại, màn, hình, bị, ch...   \n",
       "3  [mọi, người, cập, nhật, phần, mềm, lại, nó, sẽ...   \n",
       "4  [mới, mua, sài, được, tháng, thấy, pin, rất, t...   \n",
       "\n",
       "                                      tokens_no_stop  \n",
       "0  [mua, máy, thegioididong, nốt, cảm, ok, bin, t...  \n",
       "1       [pin, kém, miễn, chê, mua, tình, trạng, pin]  \n",
       "2  [gọi, điện, thoại, màn, hình, chấm, nháy, camera]  \n",
       "3  [cập, nhật, mềm, bớt, tốn, pin, thử, ok, vân, ...  \n",
       "4  [mua, sài, pin, trâu, sài, bao, mượt, lỗi, nhạ...  "
      ]
     },
     "execution_count": 45,
     "metadata": {},
     "output_type": "execute_result"
    }
   ],
   "source": [
    "def remove_stopwords_vi(tokens, stopwords_set):\n",
    "    return [word for word in tokens if word not in stopwords_set]\n",
    "\n",
    "df_train['tokens_no_stop'] = df_train['tokens'].apply(lambda x: remove_stopwords_vi(x, vi_stopwords))\n",
    "df_test_concat['tokens_no_stop'] = df_test_concat['tokens'].apply(lambda x: remove_stopwords_vi(x, vi_stopwords))\n",
    "df_train[['tokens', 'tokens_no_stop']].head()"
   ]
  },
  {
   "cell_type": "code",
   "execution_count": 46,
   "metadata": {},
   "outputs": [],
   "source": [
    "df_train['comment_no_stop'] = df_train['tokens_no_stop'].apply(lambda x: \" \".join(x))\n",
    "df_test_concat['comment_no_stop'] = df_test_concat['tokens_no_stop'].apply(lambda x: \" \".join(x))"
   ]
  },
  {
   "cell_type": "markdown",
   "metadata": {},
   "source": [
    "## Multi hot encoding"
   ]
  },
  {
   "cell_type": "code",
   "execution_count": 47,
   "metadata": {},
   "outputs": [
    {
     "name": "stdout",
     "output_type": "stream",
     "text": [
      "[[0 0 1 ... 0 0 0]\n",
      " [1 0 0 ... 0 0 0]\n",
      " [0 0 0 ... 0 0 0]\n",
      " ...\n",
      " [0 0 1 ... 0 0 0]\n",
      " [0 0 0 ... 0 0 0]\n",
      " [0 0 0 ... 0 0 0]]\n"
     ]
    },
    {
     "data": {
      "text/plain": [
       "array(['BATTERY#Negative', 'BATTERY#Neutral', 'BATTERY#Positive',\n",
       "       'CAMERA#Negative', 'CAMERA#Neutral', 'CAMERA#Positive',\n",
       "       'DESIGN#Negative', 'DESIGN#Neutral', 'DESIGN#Positive',\n",
       "       'FEATURES#Negative', 'FEATURES#Neutral', 'FEATURES#Positive',\n",
       "       'GENERAL#Negative', 'GENERAL#Neutral', 'GENERAL#Positive',\n",
       "       'OTHERS', 'PERFORMANCE#Negative', 'PERFORMANCE#Neutral',\n",
       "       'PERFORMANCE#Positive', 'PRICE#Negative', 'PRICE#Neutral',\n",
       "       'PRICE#Positive', 'SCREEN#Negative', 'SCREEN#Neutral',\n",
       "       'SCREEN#Positive', 'SER&ACC#Negative', 'SER&ACC#Neutral',\n",
       "       'SER&ACC#Positive', 'STORAGE#Negative', 'STORAGE#Neutral',\n",
       "       'STORAGE#Positive'], dtype=object)"
      ]
     },
     "execution_count": 47,
     "metadata": {},
     "output_type": "execute_result"
    }
   ],
   "source": [
    "mlb = MultiLabelBinarizer()\n",
    "y_train = mlb.fit_transform(df_train['label_list'])\n",
    "print(y_train)\n",
    "mlb.classes_"
   ]
  },
  {
   "cell_type": "code",
   "execution_count": 48,
   "metadata": {},
   "outputs": [
    {
     "name": "stdout",
     "output_type": "stream",
     "text": [
      "[[0 0 0 ... 0 0 0]\n",
      " [0 0 1 ... 0 0 0]\n",
      " [0 0 1 ... 0 0 0]\n",
      " ...\n",
      " [0 0 0 ... 0 0 0]\n",
      " [0 0 1 ... 0 0 0]\n",
      " [0 0 1 ... 0 0 0]]\n"
     ]
    },
    {
     "data": {
      "text/plain": [
       "array(['BATTERY#Negative', 'BATTERY#Neutral', 'BATTERY#Positive',\n",
       "       'CAMERA#Negative', 'CAMERA#Neutral', 'CAMERA#Positive',\n",
       "       'DESIGN#Negative', 'DESIGN#Neutral', 'DESIGN#Positive',\n",
       "       'FEATURES#Negative', 'FEATURES#Neutral', 'FEATURES#Positive',\n",
       "       'GENERAL#Negative', 'GENERAL#Neutral', 'GENERAL#Positive',\n",
       "       'OTHERS', 'PERFORMANCE#Negative', 'PERFORMANCE#Neutral',\n",
       "       'PERFORMANCE#Positive', 'PRICE#Negative', 'PRICE#Neutral',\n",
       "       'PRICE#Positive', 'SCREEN#Negative', 'SCREEN#Neutral',\n",
       "       'SCREEN#Positive', 'SER&ACC#Negative', 'SER&ACC#Neutral',\n",
       "       'SER&ACC#Positive', 'STORAGE#Negative', 'STORAGE#Neutral',\n",
       "       'STORAGE#Positive'], dtype=object)"
      ]
     },
     "execution_count": 48,
     "metadata": {},
     "output_type": "execute_result"
    }
   ],
   "source": [
    "mlb_test = MultiLabelBinarizer()\n",
    "y_test = mlb_test.fit_transform(df_test_concat['label_list'])\n",
    "print(y_test)\n",
    "mlb_test.classes_"
   ]
  },
  {
   "cell_type": "markdown",
   "metadata": {},
   "source": [
    "## Feature Extraction"
   ]
  },
  {
   "cell_type": "markdown",
   "metadata": {},
   "source": [
    "### Bag-of-Words"
   ]
  },
  {
   "cell_type": "code",
   "execution_count": 49,
   "metadata": {},
   "outputs": [
    {
     "name": "stdout",
     "output_type": "stream",
     "text": [
      "Shape of BOW matrix: (7786, 5308)\n",
      "First 10 BOW features: ['about', 'ac', 'acc', 'ace', 'active', 'actv', 'ad', 'add', 'admin', 'adorable']\n"
     ]
    }
   ],
   "source": [
    "bow_vectorizer = CountVectorizer()\n",
    "X_train_bow = bow_vectorizer.fit_transform(df_train['comment'])\n",
    "X_test_bow = bow_vectorizer.transform(df_test_concat['comment'])\n",
    "\n",
    "print(\"Shape of BOW matrix:\", X_train_bow.shape)\n",
    "print(\"First 10 BOW features:\", list(bow_vectorizer.get_feature_names_out())[:10])"
   ]
  },
  {
   "cell_type": "markdown",
   "metadata": {},
   "source": [
    "### TF-IDF"
   ]
  },
  {
   "cell_type": "code",
   "execution_count": 50,
   "metadata": {},
   "outputs": [
    {
     "name": "stdout",
     "output_type": "stream",
     "text": [
      "Shape of TF-IDF matrix: (7786, 5308)\n",
      "First 10 TF-IDF features: ['about', 'ac', 'acc', 'ace', 'active', 'actv', 'ad', 'add', 'admin', 'adorable']\n"
     ]
    }
   ],
   "source": [
    "tfidf_vectorizer = TfidfVectorizer()\n",
    "X_train_tfidf = tfidf_vectorizer.fit_transform(df_train['comment'])\n",
    "X_test_tfidf = tfidf_vectorizer.transform(df_test_concat['comment'])\n",
    "\n",
    "print(\"Shape of TF-IDF matrix:\", X_train_tfidf.shape)\n",
    "print(\"First 10 TF-IDF features:\", list(tfidf_vectorizer.get_feature_names_out())[:10])"
   ]
  },
  {
   "cell_type": "markdown",
   "metadata": {},
   "source": [
    "## Training and Evaluating"
   ]
  },
  {
   "cell_type": "markdown",
   "metadata": {},
   "source": [
    "### BoW + OneVsRestClassifier - SVC"
   ]
  },
  {
   "cell_type": "code",
   "execution_count": 51,
   "metadata": {},
   "outputs": [
    {
     "name": "stderr",
     "output_type": "stream",
     "text": [
      "c:\\Users\\HP\\Downloads\\Sudo Code\\sudo_venv311\\Lib\\site-packages\\sklearn\\svm\\_base.py:1250: ConvergenceWarning: Liblinear failed to converge, increase the number of iterations.\n",
      "  warnings.warn(\n",
      "c:\\Users\\HP\\Downloads\\Sudo Code\\sudo_venv311\\Lib\\site-packages\\sklearn\\svm\\_base.py:1250: ConvergenceWarning: Liblinear failed to converge, increase the number of iterations.\n",
      "  warnings.warn(\n",
      "c:\\Users\\HP\\Downloads\\Sudo Code\\sudo_venv311\\Lib\\site-packages\\sklearn\\svm\\_base.py:1250: ConvergenceWarning: Liblinear failed to converge, increase the number of iterations.\n",
      "  warnings.warn(\n",
      "c:\\Users\\HP\\Downloads\\Sudo Code\\sudo_venv311\\Lib\\site-packages\\sklearn\\svm\\_base.py:1250: ConvergenceWarning: Liblinear failed to converge, increase the number of iterations.\n",
      "  warnings.warn(\n",
      "c:\\Users\\HP\\Downloads\\Sudo Code\\sudo_venv311\\Lib\\site-packages\\sklearn\\svm\\_base.py:1250: ConvergenceWarning: Liblinear failed to converge, increase the number of iterations.\n",
      "  warnings.warn(\n",
      "c:\\Users\\HP\\Downloads\\Sudo Code\\sudo_venv311\\Lib\\site-packages\\sklearn\\svm\\_base.py:1250: ConvergenceWarning: Liblinear failed to converge, increase the number of iterations.\n",
      "  warnings.warn(\n",
      "c:\\Users\\HP\\Downloads\\Sudo Code\\sudo_venv311\\Lib\\site-packages\\sklearn\\svm\\_base.py:1250: ConvergenceWarning: Liblinear failed to converge, increase the number of iterations.\n",
      "  warnings.warn(\n",
      "c:\\Users\\HP\\Downloads\\Sudo Code\\sudo_venv311\\Lib\\site-packages\\sklearn\\svm\\_base.py:1250: ConvergenceWarning: Liblinear failed to converge, increase the number of iterations.\n",
      "  warnings.warn(\n",
      "c:\\Users\\HP\\Downloads\\Sudo Code\\sudo_venv311\\Lib\\site-packages\\sklearn\\svm\\_base.py:1250: ConvergenceWarning: Liblinear failed to converge, increase the number of iterations.\n",
      "  warnings.warn(\n",
      "c:\\Users\\HP\\Downloads\\Sudo Code\\sudo_venv311\\Lib\\site-packages\\sklearn\\svm\\_base.py:1250: ConvergenceWarning: Liblinear failed to converge, increase the number of iterations.\n",
      "  warnings.warn(\n",
      "c:\\Users\\HP\\Downloads\\Sudo Code\\sudo_venv311\\Lib\\site-packages\\sklearn\\svm\\_base.py:1250: ConvergenceWarning: Liblinear failed to converge, increase the number of iterations.\n",
      "  warnings.warn(\n",
      "c:\\Users\\HP\\Downloads\\Sudo Code\\sudo_venv311\\Lib\\site-packages\\sklearn\\svm\\_base.py:1250: ConvergenceWarning: Liblinear failed to converge, increase the number of iterations.\n",
      "  warnings.warn(\n",
      "c:\\Users\\HP\\Downloads\\Sudo Code\\sudo_venv311\\Lib\\site-packages\\sklearn\\svm\\_base.py:1250: ConvergenceWarning: Liblinear failed to converge, increase the number of iterations.\n",
      "  warnings.warn(\n"
     ]
    },
    {
     "name": "stdout",
     "output_type": "stream",
     "text": [
      "=== BoW + OneVsRestClassifier - SVC ===\n",
      "                      precision    recall  f1-score   support\n",
      "\n",
      "    BATTERY#Negative       0.54      0.66      0.59       518\n",
      "     BATTERY#Neutral       0.14      0.25      0.18       143\n",
      "    BATTERY#Positive       0.69      0.73      0.71       857\n",
      "     CAMERA#Negative       0.44      0.57      0.49       259\n",
      "      CAMERA#Neutral       0.20      0.32      0.24       107\n",
      "     CAMERA#Positive       0.63      0.68      0.66       518\n",
      "     DESIGN#Negative       0.34      0.36      0.35       136\n",
      "      DESIGN#Neutral       0.16      0.10      0.12        40\n",
      "     DESIGN#Positive       0.62      0.71      0.66       409\n",
      "   FEATURES#Negative       0.60      0.68      0.64       692\n",
      "    FEATURES#Neutral       0.13      0.18      0.15        85\n",
      "   FEATURES#Positive       0.40      0.52      0.45       315\n",
      "    GENERAL#Negative       0.51      0.60      0.55       421\n",
      "     GENERAL#Neutral       0.16      0.30      0.21       117\n",
      "    GENERAL#Positive       0.76      0.77      0.77      1532\n",
      "              OTHERS       0.37      0.46      0.41       764\n",
      "PERFORMANCE#Negative       0.58      0.66      0.62       664\n",
      " PERFORMANCE#Neutral       0.16      0.26      0.20       161\n",
      "PERFORMANCE#Positive       0.67      0.73      0.70       929\n",
      "      PRICE#Negative       0.32      0.41      0.36       115\n",
      "       PRICE#Neutral       0.62      0.72      0.67       472\n",
      "      PRICE#Positive       0.46      0.62      0.53       234\n",
      "     SCREEN#Negative       0.46      0.52      0.49       163\n",
      "      SCREEN#Neutral       0.10      0.07      0.08        29\n",
      "     SCREEN#Positive       0.47      0.61      0.53       198\n",
      "    SER&ACC#Negative       0.37      0.40      0.38       245\n",
      "     SER&ACC#Neutral       0.10      0.12      0.11        40\n",
      "    SER&ACC#Positive       0.78      0.79      0.78       598\n",
      "    STORAGE#Negative       0.33      0.12      0.18         8\n",
      "     STORAGE#Neutral       0.00      0.00      0.00         4\n",
      "    STORAGE#Positive       0.50      0.31      0.38        29\n",
      "\n",
      "           micro avg       0.55      0.63      0.59     10802\n",
      "           macro avg       0.41      0.46      0.43     10802\n",
      "        weighted avg       0.56      0.63      0.60     10802\n",
      "         samples avg       0.56      0.64      0.57     10802\n",
      "\n"
     ]
    },
    {
     "name": "stderr",
     "output_type": "stream",
     "text": [
      "c:\\Users\\HP\\Downloads\\Sudo Code\\sudo_venv311\\Lib\\site-packages\\sklearn\\svm\\_base.py:1250: ConvergenceWarning: Liblinear failed to converge, increase the number of iterations.\n",
      "  warnings.warn(\n"
     ]
    }
   ],
   "source": [
    "results = {}\n",
    "svm_clf_bow = OneVsRestClassifier(LinearSVC(class_weight=\"balanced\"))\n",
    "svm_clf_bow.fit(X_train_bow, y_train)\n",
    "y_pred = svm_clf_bow.predict(X_test_bow)\n",
    "results[\"BoW + OneVsRestClassifier - SVC\"] = accuracy_score(y_test, y_pred)\n",
    "print(\"=== BoW + OneVsRestClassifier - SVC ===\")\n",
    "print(classification_report(y_test, y_pred, target_names=mlb.classes_, zero_division=0))"
   ]
  },
  {
   "cell_type": "markdown",
   "metadata": {},
   "source": [
    "### BoW +  Multinomial Naive Bayes"
   ]
  },
  {
   "cell_type": "code",
   "execution_count": 52,
   "metadata": {},
   "outputs": [
    {
     "name": "stdout",
     "output_type": "stream",
     "text": [
      "=== BoW + Multinomial Naive Bayes ===\n",
      "                      precision    recall  f1-score   support\n",
      "\n",
      "    BATTERY#Negative       0.63      0.62      0.63       518\n",
      "     BATTERY#Neutral       0.08      0.01      0.02       143\n",
      "    BATTERY#Positive       0.57      0.75      0.65       857\n",
      "     CAMERA#Negative       0.54      0.32      0.40       259\n",
      "      CAMERA#Neutral       0.07      0.05      0.05       107\n",
      "     CAMERA#Positive       0.49      0.65      0.56       518\n",
      "     DESIGN#Negative       0.29      0.14      0.19       136\n",
      "      DESIGN#Neutral       0.00      0.00      0.00        40\n",
      "     DESIGN#Positive       0.54      0.63      0.58       409\n",
      "   FEATURES#Negative       0.58      0.74      0.65       692\n",
      "    FEATURES#Neutral       0.09      0.04      0.05        85\n",
      "   FEATURES#Positive       0.39      0.37      0.38       315\n",
      "    GENERAL#Negative       0.51      0.68      0.58       421\n",
      "     GENERAL#Neutral       0.14      0.04      0.07       117\n",
      "    GENERAL#Positive       0.73      0.81      0.77      1532\n",
      "              OTHERS       0.45      0.41      0.43       764\n",
      "PERFORMANCE#Negative       0.56      0.69      0.62       664\n",
      " PERFORMANCE#Neutral       0.15      0.04      0.07       161\n",
      "PERFORMANCE#Positive       0.59      0.78      0.67       929\n",
      "      PRICE#Negative       0.20      0.15      0.17       115\n",
      "       PRICE#Neutral       0.59      0.60      0.60       472\n",
      "      PRICE#Positive       0.41      0.45      0.43       234\n",
      "     SCREEN#Negative       0.51      0.23      0.32       163\n",
      "      SCREEN#Neutral       0.00      0.00      0.00        29\n",
      "     SCREEN#Positive       0.38      0.40      0.39       198\n",
      "    SER&ACC#Negative       0.46      0.40      0.42       245\n",
      "     SER&ACC#Neutral       0.00      0.00      0.00        40\n",
      "    SER&ACC#Positive       0.73      0.79      0.76       598\n",
      "    STORAGE#Negative       0.00      0.00      0.00         8\n",
      "     STORAGE#Neutral       0.00      0.00      0.00         4\n",
      "    STORAGE#Positive       0.00      0.00      0.00        29\n",
      "\n",
      "           micro avg       0.56      0.60      0.58     10802\n",
      "           macro avg       0.34      0.35      0.34     10802\n",
      "        weighted avg       0.53      0.60      0.56     10802\n",
      "         samples avg       0.58      0.62      0.55     10802\n",
      "\n"
     ]
    }
   ],
   "source": [
    "nb_clf_bow = OneVsRestClassifier(MultinomialNB(alpha=1.0))\n",
    "nb_clf_bow.fit(X_train_bow, y_train)\n",
    "y_pred = nb_clf_bow.predict(X_test_bow)\n",
    "results[\"BoW + Multinomial Naive Bayes\"] = accuracy_score(y_test, y_pred)\n",
    "print(\"=== BoW + Multinomial Naive Bayes ===\")\n",
    "print(classification_report(y_test, y_pred, target_names=mlb.classes_, zero_division=0))"
   ]
  },
  {
   "cell_type": "markdown",
   "metadata": {},
   "source": [
    "### TF-IDF + OneVsRestClassifier - SVC"
   ]
  },
  {
   "cell_type": "code",
   "execution_count": 53,
   "metadata": {},
   "outputs": [
    {
     "name": "stdout",
     "output_type": "stream",
     "text": [
      "=== TF-IDF + OneVsRestClassifier - SVC ===\n",
      "                      precision    recall  f1-score   support\n",
      "\n",
      "    BATTERY#Negative       0.80      0.01      0.02       518\n",
      "     BATTERY#Neutral       0.00      0.00      0.00       143\n",
      "    BATTERY#Positive       0.00      0.00      0.00       857\n",
      "     CAMERA#Negative       1.00      0.00      0.01       259\n",
      "      CAMERA#Neutral       0.00      0.00      0.00       107\n",
      "     CAMERA#Positive       0.00      0.00      0.00       518\n",
      "     DESIGN#Negative       0.00      0.00      0.00       136\n",
      "      DESIGN#Neutral       0.00      0.00      0.00        40\n",
      "     DESIGN#Positive       1.00      0.01      0.02       409\n",
      "   FEATURES#Negative       0.81      0.09      0.17       692\n",
      "    FEATURES#Neutral       0.00      0.00      0.00        85\n",
      "   FEATURES#Positive       0.00      0.00      0.00       315\n",
      "    GENERAL#Negative       0.50      0.00      0.00       421\n",
      "     GENERAL#Neutral       0.00      0.00      0.00       117\n",
      "    GENERAL#Positive       0.89      0.04      0.08      1532\n",
      "              OTHERS       0.44      0.03      0.06       764\n",
      "PERFORMANCE#Negative       0.83      0.13      0.22       664\n",
      " PERFORMANCE#Neutral       0.00      0.00      0.00       161\n",
      "PERFORMANCE#Positive       0.50      0.00      0.00       929\n",
      "      PRICE#Negative       0.00      0.00      0.00       115\n",
      "       PRICE#Neutral       0.00      0.00      0.00       472\n",
      "      PRICE#Positive       0.00      0.00      0.00       234\n",
      "     SCREEN#Negative       1.00      0.01      0.01       163\n",
      "      SCREEN#Neutral       0.00      0.00      0.00        29\n",
      "     SCREEN#Positive       0.00      0.00      0.00       198\n",
      "    SER&ACC#Negative       0.00      0.00      0.00       245\n",
      "     SER&ACC#Neutral       0.00      0.00      0.00        40\n",
      "    SER&ACC#Positive       0.00      0.00      0.00       598\n",
      "    STORAGE#Negative       0.00      0.00      0.00         8\n",
      "     STORAGE#Neutral       0.00      0.00      0.00         4\n",
      "    STORAGE#Positive       0.00      0.00      0.00        29\n",
      "\n",
      "           micro avg       0.75      0.02      0.05     10802\n",
      "           macro avg       0.25      0.01      0.02     10802\n",
      "        weighted avg       0.44      0.02      0.04     10802\n",
      "         samples avg       0.07      0.03      0.04     10802\n",
      "\n"
     ]
    }
   ],
   "source": [
    "svm_clf_tfidf = OneVsRestClassifier(LinearSVC(class_weight=\"balanced\"))\n",
    "svm_clf_tfidf.fit(X_train_tfidf, y_train)\n",
    "y_pred = svm_clf_bow.predict(X_test_tfidf)\n",
    "results[\"TF-IDF + OneVsRestClassifier - SVC\"] = accuracy_score(y_test, y_pred)\n",
    "print(\"=== TF-IDF + OneVsRestClassifier - SVC ===\")\n",
    "print(classification_report(y_test, y_pred, target_names=mlb.classes_, zero_division=0))"
   ]
  },
  {
   "cell_type": "markdown",
   "metadata": {},
   "source": [
    "### TF-IDF + Multinomial Naive Bayes"
   ]
  },
  {
   "cell_type": "code",
   "execution_count": 54,
   "metadata": {},
   "outputs": [
    {
     "name": "stdout",
     "output_type": "stream",
     "text": [
      "=== TF-IDF + Multinomial Naive Bayes ===\n",
      "                      precision    recall  f1-score   support\n",
      "\n",
      "    BATTERY#Negative       1.00      0.01      0.03       518\n",
      "     BATTERY#Neutral       0.00      0.00      0.00       143\n",
      "    BATTERY#Positive       0.85      0.09      0.15       857\n",
      "     CAMERA#Negative       0.00      0.00      0.00       259\n",
      "      CAMERA#Neutral       0.00      0.00      0.00       107\n",
      "     CAMERA#Positive       1.00      0.02      0.04       518\n",
      "     DESIGN#Negative       0.00      0.00      0.00       136\n",
      "      DESIGN#Neutral       0.00      0.00      0.00        40\n",
      "     DESIGN#Positive       1.00      0.05      0.09       409\n",
      "   FEATURES#Negative       0.92      0.12      0.21       692\n",
      "    FEATURES#Neutral       0.00      0.00      0.00        85\n",
      "   FEATURES#Positive       0.00      0.00      0.00       315\n",
      "    GENERAL#Negative       0.00      0.00      0.00       421\n",
      "     GENERAL#Neutral       0.00      0.00      0.00       117\n",
      "    GENERAL#Positive       0.76      0.74      0.75      1532\n",
      "              OTHERS       1.00      0.00      0.01       764\n",
      "PERFORMANCE#Negative       0.95      0.06      0.11       664\n",
      " PERFORMANCE#Neutral       0.00      0.00      0.00       161\n",
      "PERFORMANCE#Positive       0.84      0.23      0.36       929\n",
      "      PRICE#Negative       0.00      0.00      0.00       115\n",
      "       PRICE#Neutral       0.00      0.00      0.00       472\n",
      "      PRICE#Positive       1.00      0.00      0.01       234\n",
      "     SCREEN#Negative       0.00      0.00      0.00       163\n",
      "      SCREEN#Neutral       0.00      0.00      0.00        29\n",
      "     SCREEN#Positive       0.00      0.00      0.00       198\n",
      "    SER&ACC#Negative       0.00      0.00      0.00       245\n",
      "     SER&ACC#Neutral       0.00      0.00      0.00        40\n",
      "    SER&ACC#Positive       0.96      0.39      0.56       598\n",
      "    STORAGE#Negative       0.00      0.00      0.00         8\n",
      "     STORAGE#Neutral       0.00      0.00      0.00         4\n",
      "    STORAGE#Positive       0.00      0.00      0.00        29\n",
      "\n",
      "           micro avg       0.80      0.17      0.28     10802\n",
      "           macro avg       0.33      0.06      0.07     10802\n",
      "        weighted avg       0.64      0.17      0.21     10802\n",
      "         samples avg       0.39      0.17      0.23     10802\n",
      "\n"
     ]
    }
   ],
   "source": [
    "nb_clf_tfidf = OneVsRestClassifier(MultinomialNB(alpha=1.0))\n",
    "nb_clf_tfidf.fit(X_train_tfidf, y_train)\n",
    "y_pred = nb_clf_tfidf.predict(X_test_tfidf)\n",
    "results[\"TF-IDF + Multinomial Naive Bayes\"] = accuracy_score(y_test, y_pred)\n",
    "print(\"=== TF-IDF + Multinomial Naive Bayes ===\")\n",
    "print(classification_report(y_test, y_pred, target_names=mlb.classes_, zero_division=0))"
   ]
  },
  {
   "cell_type": "markdown",
   "metadata": {},
   "source": [
    "## Result Visualization"
   ]
  },
  {
   "cell_type": "code",
   "execution_count": 56,
   "metadata": {},
   "outputs": [
    {
     "data": {
      "image/png": "[encoded data removed]",
      "text/plain": [
       "<Figure size 640x480 with 1 Axes>"
      ]
     },
     "metadata": {},
     "output_type": "display_data"
    }
   ],
   "source": [
    "plt.bar(results.keys(), results.values())\n",
    "plt.ylabel(\"Accuracy\")\n",
    "plt.title(\"Comparison of Feature + Model Combinations\")\n",
    "plt.xticks(rotation=90)\n",
    "plt.show()"
   ]
  }
 ],
 "metadata": {
  "kernelspec": {
   "display_name": "sudo_venv311",
   "language": "python",
   "name": "python3"
  },
  "language_info": {
   "codemirror_mode": {
    "name": "ipython",
    "version": 3
   },
   "file_extension": ".py",
   "mimetype": "text/x-python",
   "name": "python",
   "nbconvert_exporter": "python",
   "pygments_lexer": "ipython3",
   "version": "3.11.0"
  }
 },
 "nbformat": 4,
 "nbformat_minor": 2
}
