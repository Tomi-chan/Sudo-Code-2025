{
 "cells": [
  {
   "cell_type": "markdown",
   "metadata": {},
   "source": [
    "# SUDO CODE 2025\n",
    "\n",
    "- Name: Nguyễn Anh Đức\n",
    "- Team: 9\n",
    "- ID: 28"
   ]
  },
  {
   "cell_type": "markdown",
   "metadata": {},
   "source": [
    "## Import libs"
   ]
  },
  {
   "cell_type": "code",
   "execution_count": 46,
   "metadata": {},
   "outputs": [],
   "source": [
    "import json\n",
    "import zipfile\n",
    "import pandas as pd\n",
    "import numpy as np\n",
    "import re\n",
    "from collections import Counter\n",
    "import nltk\n",
    "from nltk.tokenize import word_tokenize"
   ]
  },
  {
   "cell_type": "markdown",
   "metadata": {},
   "source": [
    "## Exploring data"
   ]
  },
  {
   "cell_type": "markdown",
   "metadata": {},
   "source": [
    "### Read rawdata from file"
   ]
  },
  {
   "cell_type": "code",
   "execution_count": 2,
   "metadata": {},
   "outputs": [],
   "source": [
    "zip_file_path = 'data/news_dataset.json.zip'\n",
    "extraction_path = 'data'\n",
    "\n",
    "with zipfile.ZipFile(zip_file_path, 'r') as zip_ref:\n",
    "    zip_ref.extractall(extraction_path)"
   ]
  },
  {
   "cell_type": "code",
   "execution_count": 3,
   "metadata": {},
   "outputs": [],
   "source": [
    "raw_df = pd.read_json(\"data/news_dataset.json\")"
   ]
  },
  {
   "cell_type": "code",
   "execution_count": 4,
   "metadata": {},
   "outputs": [
    {
     "data": {
      "text/html": [
       "<div>\n",
       "<style scoped>\n",
       "    .dataframe tbody tr th:only-of-type {\n",
       "        vertical-align: middle;\n",
       "    }\n",
       "\n",
       "    .dataframe tbody tr th {\n",
       "        vertical-align: top;\n",
       "    }\n",
       "\n",
       "    .dataframe thead th {\n",
       "        text-align: right;\n",
       "    }\n",
       "</style>\n",
       "<table border=\"1\" class=\"dataframe\">\n",
       "  <thead>\n",
       "    <tr style=\"text-align: right;\">\n",
       "      <th></th>\n",
       "      <th>id</th>\n",
       "      <th>author</th>\n",
       "      <th>content</th>\n",
       "      <th>picture_count</th>\n",
       "      <th>processed</th>\n",
       "      <th>source</th>\n",
       "      <th>title</th>\n",
       "      <th>topic</th>\n",
       "      <th>url</th>\n",
       "      <th>crawled_at</th>\n",
       "    </tr>\n",
       "  </thead>\n",
       "  <tbody>\n",
       "    <tr>\n",
       "      <th>0</th>\n",
       "      <td>218270</td>\n",
       "      <td></td>\n",
       "      <td>Chiều 31/7, Công an tỉnh Thừa Thiên - Huế đã c...</td>\n",
       "      <td>3</td>\n",
       "      <td>0</td>\n",
       "      <td>docbao.vn</td>\n",
       "      <td>Tên cướp tiệm vàng tại Huế là đại uý công an, ...</td>\n",
       "      <td>Pháp luật</td>\n",
       "      <td>https://docbao.vn/phap-luat/ten-cuop-tiem-vang...</td>\n",
       "      <td>2022-08-01 09:09:22.817308</td>\n",
       "    </tr>\n",
       "    <tr>\n",
       "      <th>1</th>\n",
       "      <td>218269</td>\n",
       "      <td>(Nguồn: Sina)</td>\n",
       "      <td>Gần đây, Thứ trưởng Bộ Phát triển Kỹ thuật số,...</td>\n",
       "      <td>1</td>\n",
       "      <td>0</td>\n",
       "      <td>vtc.vn</td>\n",
       "      <td>Bỏ qua mạng 5G, Nga tiến thẳng từ 4G lên 6G</td>\n",
       "      <td>Sống kết nối</td>\n",
       "      <td>https://vtc.vn/bo-qua-mang-5g-nga-tien-thang-t...</td>\n",
       "      <td>2022-08-01 09:09:21.181469</td>\n",
       "    </tr>\n",
       "    <tr>\n",
       "      <th>2</th>\n",
       "      <td>218268</td>\n",
       "      <td>Hồ Sỹ Anh</td>\n",
       "      <td>Kết quả thi tốt nghiệp THPT năm 2022 cho thấy ...</td>\n",
       "      <td>3</td>\n",
       "      <td>0</td>\n",
       "      <td>thanhnien.vn</td>\n",
       "      <td>Địa phương nào đứng đầu cả nước tổng điểm 3 mô...</td>\n",
       "      <td>Giáo dục</td>\n",
       "      <td>https://thanhnien.vn/dia-phuong-nao-dung-dau-c...</td>\n",
       "      <td>2022-08-01 09:09:15.311901</td>\n",
       "    </tr>\n",
       "    <tr>\n",
       "      <th>3</th>\n",
       "      <td>218267</td>\n",
       "      <td>Ngọc Ánh</td>\n",
       "      <td>Thống đốc Kentucky Andy Beshear hôm 31/7 cho h...</td>\n",
       "      <td>1</td>\n",
       "      <td>0</td>\n",
       "      <td>vnexpress</td>\n",
       "      <td>Người chết trong mưa lũ 'nghìn năm có một' ở M...</td>\n",
       "      <td>Thế giới</td>\n",
       "      <td>https://vnexpress.net/nguoi-chet-trong-mua-lu-...</td>\n",
       "      <td>2022-08-01 09:09:02.211498</td>\n",
       "    </tr>\n",
       "    <tr>\n",
       "      <th>4</th>\n",
       "      <td>218266</td>\n",
       "      <td>HẢI YẾN - MINH LÝ</td>\n",
       "      <td>Vụ tai nạn giao thông liên hoàn trên phố đi bộ...</td>\n",
       "      <td>12</td>\n",
       "      <td>0</td>\n",
       "      <td>soha</td>\n",
       "      <td>Hải Phòng: Hình ảnh xe \"điên\" gây tai nạn liên...</td>\n",
       "      <td>Thời sự - Xã hội</td>\n",
       "      <td>https://soha.vn/hai-phong-hinh-anh-xe-dien-gay...</td>\n",
       "      <td>2022-08-01 09:09:01.601170</td>\n",
       "    </tr>\n",
       "  </tbody>\n",
       "</table>\n",
       "</div>"
      ],
      "text/plain": [
       "       id             author  \\\n",
       "0  218270                      \n",
       "1  218269      (Nguồn: Sina)   \n",
       "2  218268          Hồ Sỹ Anh   \n",
       "3  218267           Ngọc Ánh   \n",
       "4  218266  HẢI YẾN - MINH LÝ   \n",
       "\n",
       "                                             content  picture_count  \\\n",
       "0  Chiều 31/7, Công an tỉnh Thừa Thiên - Huế đã c...              3   \n",
       "1  Gần đây, Thứ trưởng Bộ Phát triển Kỹ thuật số,...              1   \n",
       "2  Kết quả thi tốt nghiệp THPT năm 2022 cho thấy ...              3   \n",
       "3  Thống đốc Kentucky Andy Beshear hôm 31/7 cho h...              1   \n",
       "4  Vụ tai nạn giao thông liên hoàn trên phố đi bộ...             12   \n",
       "\n",
       "   processed        source                                              title  \\\n",
       "0          0     docbao.vn  Tên cướp tiệm vàng tại Huế là đại uý công an, ...   \n",
       "1          0        vtc.vn        Bỏ qua mạng 5G, Nga tiến thẳng từ 4G lên 6G   \n",
       "2          0  thanhnien.vn  Địa phương nào đứng đầu cả nước tổng điểm 3 mô...   \n",
       "3          0     vnexpress  Người chết trong mưa lũ 'nghìn năm có một' ở M...   \n",
       "4          0          soha  Hải Phòng: Hình ảnh xe \"điên\" gây tai nạn liên...   \n",
       "\n",
       "              topic                                                url  \\\n",
       "0         Pháp luật  https://docbao.vn/phap-luat/ten-cuop-tiem-vang...   \n",
       "1      Sống kết nối  https://vtc.vn/bo-qua-mang-5g-nga-tien-thang-t...   \n",
       "2          Giáo dục  https://thanhnien.vn/dia-phuong-nao-dung-dau-c...   \n",
       "3          Thế giới  https://vnexpress.net/nguoi-chet-trong-mua-lu-...   \n",
       "4  Thời sự - Xã hội  https://soha.vn/hai-phong-hinh-anh-xe-dien-gay...   \n",
       "\n",
       "                  crawled_at  \n",
       "0 2022-08-01 09:09:22.817308  \n",
       "1 2022-08-01 09:09:21.181469  \n",
       "2 2022-08-01 09:09:15.311901  \n",
       "3 2022-08-01 09:09:02.211498  \n",
       "4 2022-08-01 09:09:01.601170  "
      ]
     },
     "execution_count": 4,
     "metadata": {},
     "output_type": "execute_result"
    }
   ],
   "source": [
    "raw_df.head()"
   ]
  },
  {
   "cell_type": "markdown",
   "metadata": {},
   "source": [
    "### Number of rows and columns"
   ]
  },
  {
   "cell_type": "code",
   "execution_count": 5,
   "metadata": {},
   "outputs": [
    {
     "name": "stdout",
     "output_type": "stream",
     "text": [
      "(184539, 10)\n"
     ]
    }
   ],
   "source": [
    "shape = raw_df.shape\n",
    "print(shape)"
   ]
  },
  {
   "cell_type": "markdown",
   "metadata": {},
   "source": [
    "### Check duplicate rows"
   ]
  },
  {
   "cell_type": "code",
   "execution_count": 6,
   "metadata": {},
   "outputs": [
    {
     "name": "stdout",
     "output_type": "stream",
     "text": [
      "0\n"
     ]
    }
   ],
   "source": [
    "num_duplicated_rows = raw_df.duplicated().sum()\n",
    "print(num_duplicated_rows)"
   ]
  },
  {
   "cell_type": "markdown",
   "metadata": {},
   "source": [
    "### Remove empty data"
   ]
  },
  {
   "cell_type": "code",
   "execution_count": 7,
   "metadata": {},
   "outputs": [],
   "source": [
    "raw_df = raw_df.dropna() \n",
    "raw_df = raw_df[~raw_df.eq('').any(axis=1)]\n",
    "raw_df = raw_df.reset_index(drop=True)"
   ]
  },
  {
   "cell_type": "code",
   "execution_count": 8,
   "metadata": {},
   "outputs": [
    {
     "name": "stdout",
     "output_type": "stream",
     "text": [
      "(113418, 10)\n"
     ]
    }
   ],
   "source": [
    "print(raw_df.shape)"
   ]
  },
  {
   "cell_type": "markdown",
   "metadata": {},
   "source": [
    "### Meaning of each column"
   ]
  },
  {
   "cell_type": "markdown",
   "metadata": {},
   "source": [
    "- `id`: Primary key in the database, used only for identification.  \n",
    "- `author`: Name of the person or group of journalists who wrote the article.  \n",
    "- `title`: Title of the article.  \n",
    "- `content`: Text content of the article.  \n",
    "- `picture_count`: Number of pictures used in the article.  \n",
    "- `topic`: Main topic of the article.  \n",
    "- `url`: URL of the article.  \n",
    "- `source`: News outlet that published the article.  \n",
    "- `crawled_at`: The time when the article was crawled (usually very close to the upload time).  \n",
    "- `processed`: Can be ignored.  "
   ]
  },
  {
   "cell_type": "code",
   "execution_count": 9,
   "metadata": {},
   "outputs": [],
   "source": [
    "raw_df = raw_df.drop(columns=['processed'])"
   ]
  },
  {
   "cell_type": "markdown",
   "metadata": {},
   "source": [
    "### Columns' data type"
   ]
  },
  {
   "cell_type": "code",
   "execution_count": 10,
   "metadata": {},
   "outputs": [
    {
     "name": "stdout",
     "output_type": "stream",
     "text": [
      "id                        int64\n",
      "author                   object\n",
      "content                  object\n",
      "picture_count             int64\n",
      "source                   object\n",
      "title                    object\n",
      "topic                    object\n",
      "url                      object\n",
      "crawled_at       datetime64[ns]\n",
      "dtype: object\n"
     ]
    }
   ],
   "source": [
    "dtypes = raw_df.dtypes\n",
    "print(dtypes)"
   ]
  },
  {
   "cell_type": "markdown",
   "metadata": {},
   "source": [
    "### Exploring numerical attributes"
   ]
  },
  {
   "cell_type": "code",
   "execution_count": 11,
   "metadata": {},
   "outputs": [
    {
     "data": {
      "text/html": [
       "<div>\n",
       "<style scoped>\n",
       "    .dataframe tbody tr th:only-of-type {\n",
       "        vertical-align: middle;\n",
       "    }\n",
       "\n",
       "    .dataframe tbody tr th {\n",
       "        vertical-align: top;\n",
       "    }\n",
       "\n",
       "    .dataframe thead th {\n",
       "        text-align: right;\n",
       "    }\n",
       "</style>\n",
       "<table border=\"1\" class=\"dataframe\">\n",
       "  <thead>\n",
       "    <tr style=\"text-align: right;\">\n",
       "      <th></th>\n",
       "      <th>id</th>\n",
       "      <th>picture_count</th>\n",
       "    </tr>\n",
       "  </thead>\n",
       "  <tbody>\n",
       "    <tr>\n",
       "      <th>0</th>\n",
       "      <td>218269</td>\n",
       "      <td>1</td>\n",
       "    </tr>\n",
       "    <tr>\n",
       "      <th>1</th>\n",
       "      <td>218268</td>\n",
       "      <td>3</td>\n",
       "    </tr>\n",
       "    <tr>\n",
       "      <th>2</th>\n",
       "      <td>218267</td>\n",
       "      <td>1</td>\n",
       "    </tr>\n",
       "    <tr>\n",
       "      <th>3</th>\n",
       "      <td>218266</td>\n",
       "      <td>12</td>\n",
       "    </tr>\n",
       "    <tr>\n",
       "      <th>4</th>\n",
       "      <td>218261</td>\n",
       "      <td>1</td>\n",
       "    </tr>\n",
       "  </tbody>\n",
       "</table>\n",
       "</div>"
      ],
      "text/plain": [
       "       id  picture_count\n",
       "0  218269              1\n",
       "1  218268              3\n",
       "2  218267              1\n",
       "3  218266             12\n",
       "4  218261              1"
      ]
     },
     "execution_count": 11,
     "metadata": {},
     "output_type": "execute_result"
    }
   ],
   "source": [
    "num_col_df = raw_df.select_dtypes(exclude=['object', 'datetime64','datetime64[ns, UTC]'])\n",
    "num_col_df.head()"
   ]
  },
  {
   "cell_type": "markdown",
   "metadata": {},
   "source": [
    "- Since the `id` column is the primary key in the database, representing the identity of each news item, we will exclude it from the following exploratory steps for numerical attributes."
   ]
  },
  {
   "cell_type": "code",
   "execution_count": 12,
   "metadata": {},
   "outputs": [],
   "source": [
    "num_col_df = num_col_df.drop(columns=[\"id\"])"
   ]
  },
  {
   "cell_type": "code",
   "execution_count": 13,
   "metadata": {},
   "outputs": [],
   "source": [
    "def median(df):\n",
    "    return df.median()\n",
    "\n",
    "def lower_quartile(df):\n",
    "    return df.quantile(0.25)\n",
    "\n",
    "def upper_quartile(df):\n",
    "    return df.quantile(0.75)"
   ]
  },
  {
   "cell_type": "code",
   "execution_count": 14,
   "metadata": {},
   "outputs": [
    {
     "data": {
      "text/html": [
       "<div>\n",
       "<style scoped>\n",
       "    .dataframe tbody tr th:only-of-type {\n",
       "        vertical-align: middle;\n",
       "    }\n",
       "\n",
       "    .dataframe tbody tr th {\n",
       "        vertical-align: top;\n",
       "    }\n",
       "\n",
       "    .dataframe thead th {\n",
       "        text-align: right;\n",
       "    }\n",
       "</style>\n",
       "<table border=\"1\" class=\"dataframe\">\n",
       "  <thead>\n",
       "    <tr style=\"text-align: right;\">\n",
       "      <th></th>\n",
       "      <th>picture_count</th>\n",
       "    </tr>\n",
       "  </thead>\n",
       "  <tbody>\n",
       "    <tr>\n",
       "      <th>min</th>\n",
       "      <td>0.0</td>\n",
       "    </tr>\n",
       "    <tr>\n",
       "      <th>lower_quartile</th>\n",
       "      <td>1.0</td>\n",
       "    </tr>\n",
       "    <tr>\n",
       "      <th>median</th>\n",
       "      <td>1.0</td>\n",
       "    </tr>\n",
       "    <tr>\n",
       "      <th>upper_quartile</th>\n",
       "      <td>2.0</td>\n",
       "    </tr>\n",
       "    <tr>\n",
       "      <th>max</th>\n",
       "      <td>74.0</td>\n",
       "    </tr>\n",
       "  </tbody>\n",
       "</table>\n",
       "</div>"
      ],
      "text/plain": [
       "                picture_count\n",
       "min                       0.0\n",
       "lower_quartile            1.0\n",
       "median                    1.0\n",
       "upper_quartile            2.0\n",
       "max                      74.0"
      ]
     },
     "execution_count": 14,
     "metadata": {},
     "output_type": "execute_result"
    }
   ],
   "source": [
    "num_col_info_df = num_col_df.agg([\"min\", lower_quartile, median, upper_quartile, \"max\"])\n",
    "num_col_info_df"
   ]
  },
  {
   "cell_type": "markdown",
   "metadata": {},
   "source": [
    "### Exploring non-numerical attributes"
   ]
  },
  {
   "cell_type": "code",
   "execution_count": 15,
   "metadata": {},
   "outputs": [
    {
     "data": {
      "text/html": [
       "<div>\n",
       "<style scoped>\n",
       "    .dataframe tbody tr th:only-of-type {\n",
       "        vertical-align: middle;\n",
       "    }\n",
       "\n",
       "    .dataframe tbody tr th {\n",
       "        vertical-align: top;\n",
       "    }\n",
       "\n",
       "    .dataframe thead th {\n",
       "        text-align: right;\n",
       "    }\n",
       "</style>\n",
       "<table border=\"1\" class=\"dataframe\">\n",
       "  <thead>\n",
       "    <tr style=\"text-align: right;\">\n",
       "      <th></th>\n",
       "      <th>author</th>\n",
       "      <th>content</th>\n",
       "      <th>source</th>\n",
       "      <th>title</th>\n",
       "      <th>topic</th>\n",
       "      <th>url</th>\n",
       "    </tr>\n",
       "  </thead>\n",
       "  <tbody>\n",
       "    <tr>\n",
       "      <th>0</th>\n",
       "      <td>(Nguồn: Sina)</td>\n",
       "      <td>Gần đây, Thứ trưởng Bộ Phát triển Kỹ thuật số,...</td>\n",
       "      <td>vtc.vn</td>\n",
       "      <td>Bỏ qua mạng 5G, Nga tiến thẳng từ 4G lên 6G</td>\n",
       "      <td>Sống kết nối</td>\n",
       "      <td>https://vtc.vn/bo-qua-mang-5g-nga-tien-thang-t...</td>\n",
       "    </tr>\n",
       "    <tr>\n",
       "      <th>1</th>\n",
       "      <td>Hồ Sỹ Anh</td>\n",
       "      <td>Kết quả thi tốt nghiệp THPT năm 2022 cho thấy ...</td>\n",
       "      <td>thanhnien.vn</td>\n",
       "      <td>Địa phương nào đứng đầu cả nước tổng điểm 3 mô...</td>\n",
       "      <td>Giáo dục</td>\n",
       "      <td>https://thanhnien.vn/dia-phuong-nao-dung-dau-c...</td>\n",
       "    </tr>\n",
       "    <tr>\n",
       "      <th>2</th>\n",
       "      <td>Ngọc Ánh</td>\n",
       "      <td>Thống đốc Kentucky Andy Beshear hôm 31/7 cho h...</td>\n",
       "      <td>vnexpress</td>\n",
       "      <td>Người chết trong mưa lũ 'nghìn năm có một' ở M...</td>\n",
       "      <td>Thế giới</td>\n",
       "      <td>https://vnexpress.net/nguoi-chet-trong-mua-lu-...</td>\n",
       "    </tr>\n",
       "    <tr>\n",
       "      <th>3</th>\n",
       "      <td>HẢI YẾN - MINH LÝ</td>\n",
       "      <td>Vụ tai nạn giao thông liên hoàn trên phố đi bộ...</td>\n",
       "      <td>soha</td>\n",
       "      <td>Hải Phòng: Hình ảnh xe \"điên\" gây tai nạn liên...</td>\n",
       "      <td>Thời sự - Xã hội</td>\n",
       "      <td>https://soha.vn/hai-phong-hinh-anh-xe-dien-gay...</td>\n",
       "    </tr>\n",
       "    <tr>\n",
       "      <th>4</th>\n",
       "      <td>Đỗ Trung</td>\n",
       "      <td>Siêu sao Bồ Đào Nha được HLV Erik ten Hag bố t...</td>\n",
       "      <td>bongdaplus</td>\n",
       "      <td>Bị thay sau hiệp 1, Ronaldo đùng đùng bỏ về sớm</td>\n",
       "      <td>Ngoại hạng Anh</td>\n",
       "      <td>https://bongdaplus.vn/ngoai-hang-anh/ronaldo-d...</td>\n",
       "    </tr>\n",
       "  </tbody>\n",
       "</table>\n",
       "</div>"
      ],
      "text/plain": [
       "              author                                            content  \\\n",
       "0      (Nguồn: Sina)  Gần đây, Thứ trưởng Bộ Phát triển Kỹ thuật số,...   \n",
       "1          Hồ Sỹ Anh  Kết quả thi tốt nghiệp THPT năm 2022 cho thấy ...   \n",
       "2           Ngọc Ánh  Thống đốc Kentucky Andy Beshear hôm 31/7 cho h...   \n",
       "3  HẢI YẾN - MINH LÝ  Vụ tai nạn giao thông liên hoàn trên phố đi bộ...   \n",
       "4           Đỗ Trung  Siêu sao Bồ Đào Nha được HLV Erik ten Hag bố t...   \n",
       "\n",
       "         source                                              title  \\\n",
       "0        vtc.vn        Bỏ qua mạng 5G, Nga tiến thẳng từ 4G lên 6G   \n",
       "1  thanhnien.vn  Địa phương nào đứng đầu cả nước tổng điểm 3 mô...   \n",
       "2     vnexpress  Người chết trong mưa lũ 'nghìn năm có một' ở M...   \n",
       "3          soha  Hải Phòng: Hình ảnh xe \"điên\" gây tai nạn liên...   \n",
       "4    bongdaplus    Bị thay sau hiệp 1, Ronaldo đùng đùng bỏ về sớm   \n",
       "\n",
       "              topic                                                url  \n",
       "0      Sống kết nối  https://vtc.vn/bo-qua-mang-5g-nga-tien-thang-t...  \n",
       "1          Giáo dục  https://thanhnien.vn/dia-phuong-nao-dung-dau-c...  \n",
       "2          Thế giới  https://vnexpress.net/nguoi-chet-trong-mua-lu-...  \n",
       "3  Thời sự - Xã hội  https://soha.vn/hai-phong-hinh-anh-xe-dien-gay...  \n",
       "4    Ngoại hạng Anh  https://bongdaplus.vn/ngoai-hang-anh/ronaldo-d...  "
      ]
     },
     "execution_count": 15,
     "metadata": {},
     "output_type": "execute_result"
    }
   ],
   "source": [
    "cate_col_df = raw_df.select_dtypes(include=['object'])\n",
    "cate_col_df.head()"
   ]
  },
  {
   "cell_type": "code",
   "execution_count": 16,
   "metadata": {},
   "outputs": [],
   "source": [
    "def num_values(s):\n",
    "    return s.nunique()\n",
    "\n",
    "def value_ratios(s):\n",
    "    return (s.dropna().value_counts(normalize=True) * 100).round(1).to_dict()"
   ]
  },
  {
   "cell_type": "code",
   "execution_count": 17,
   "metadata": {},
   "outputs": [
    {
     "data": {
      "text/html": [
       "<div>\n",
       "<style scoped>\n",
       "    .dataframe tbody tr th:only-of-type {\n",
       "        vertical-align: middle;\n",
       "    }\n",
       "\n",
       "    .dataframe tbody tr th {\n",
       "        vertical-align: top;\n",
       "    }\n",
       "\n",
       "    .dataframe thead th {\n",
       "        text-align: right;\n",
       "    }\n",
       "</style>\n",
       "<table border=\"1\" class=\"dataframe\">\n",
       "  <thead>\n",
       "    <tr style=\"text-align: right;\">\n",
       "      <th></th>\n",
       "      <th>author</th>\n",
       "      <th>content</th>\n",
       "      <th>source</th>\n",
       "      <th>title</th>\n",
       "      <th>topic</th>\n",
       "      <th>url</th>\n",
       "    </tr>\n",
       "  </thead>\n",
       "  <tbody>\n",
       "    <tr>\n",
       "      <th>num_values</th>\n",
       "      <td>17282</td>\n",
       "      <td>110437</td>\n",
       "      <td>24</td>\n",
       "      <td>106972</td>\n",
       "      <td>1347</td>\n",
       "      <td>113418</td>\n",
       "    </tr>\n",
       "    <tr>\n",
       "      <th>value_ratios</th>\n",
       "      <td>{'PV/VOV.VN': 0.6, 'Trường Thịnh': 0.6, 'Ánh D...</td>\n",
       "      <td>{'BÁO ĐIỆN TỬ THỂ THAO &amp; VĂN HÓA - TTXVN Giấy ...</td>\n",
       "      <td>{'thanhnien.vn': 10.1, 'vnexpress': 7.5, 'dant...</td>\n",
       "      <td>{'Không tự ý mua thuốc Tamiflu điều trị cúm': ...</td>\n",
       "      <td>{'Thế giới': 7.6, 'Thể thao': 6.8, 'Xã hội': 5...</td>\n",
       "      <td>{'https://vtc.vn/bo-qua-mang-5g-nga-tien-thang...</td>\n",
       "    </tr>\n",
       "  </tbody>\n",
       "</table>\n",
       "</div>"
      ],
      "text/plain": [
       "                                                         author  \\\n",
       "num_values                                                17282   \n",
       "value_ratios  {'PV/VOV.VN': 0.6, 'Trường Thịnh': 0.6, 'Ánh D...   \n",
       "\n",
       "                                                        content  \\\n",
       "num_values                                               110437   \n",
       "value_ratios  {'BÁO ĐIỆN TỬ THỂ THAO & VĂN HÓA - TTXVN Giấy ...   \n",
       "\n",
       "                                                         source  \\\n",
       "num_values                                                   24   \n",
       "value_ratios  {'thanhnien.vn': 10.1, 'vnexpress': 7.5, 'dant...   \n",
       "\n",
       "                                                          title  \\\n",
       "num_values                                               106972   \n",
       "value_ratios  {'Không tự ý mua thuốc Tamiflu điều trị cúm': ...   \n",
       "\n",
       "                                                          topic  \\\n",
       "num_values                                                 1347   \n",
       "value_ratios  {'Thế giới': 7.6, 'Thể thao': 6.8, 'Xã hội': 5...   \n",
       "\n",
       "                                                            url  \n",
       "num_values                                               113418  \n",
       "value_ratios  {'https://vtc.vn/bo-qua-mang-5g-nga-tien-thang...  "
      ]
     },
     "execution_count": 17,
     "metadata": {},
     "output_type": "execute_result"
    }
   ],
   "source": [
    "cat_col_info_df = cate_col_df.agg([num_values, value_ratios])\n",
    "cat_col_info_df"
   ]
  },
  {
   "cell_type": "markdown",
   "metadata": {},
   "source": [
    "## Preprocessing data"
   ]
  },
  {
   "cell_type": "code",
   "execution_count": 18,
   "metadata": {},
   "outputs": [],
   "source": [
    "raw_df['content_orig'] = raw_df['content'].astype(str)"
   ]
  },
  {
   "cell_type": "markdown",
   "metadata": {},
   "source": [
    "### Lowercase the content"
   ]
  },
  {
   "cell_type": "code",
   "execution_count": 20,
   "metadata": {},
   "outputs": [
    {
     "data": {
      "text/plain": [
       "0    gần đây, thứ trưởng bộ phát triển kỹ thuật số,...\n",
       "1    kết quả thi tốt nghiệp thpt năm 2022 cho thấy ...\n",
       "2    thống đốc kentucky andy beshear hôm 31/7 cho h...\n",
       "3    vụ tai nạn giao thông liên hoàn trên phố đi bộ...\n",
       "4    siêu sao bồ đào nha được hlv erik ten hag bố t...\n",
       "Name: content, dtype: object"
      ]
     },
     "execution_count": 20,
     "metadata": {},
     "output_type": "execute_result"
    }
   ],
   "source": [
    "raw_df[\"content\"] = raw_df[\"content\"].str.lower()\n",
    "raw_df['content'].head()"
   ]
  },
  {
   "cell_type": "markdown",
   "metadata": {},
   "source": [
    "### Remove HTML tags"
   ]
  },
  {
   "cell_type": "code",
   "execution_count": null,
   "metadata": {},
   "outputs": [],
   "source": [
    "raw_df['content'] = raw_df['content'].apply(lambda t: re.sub(r'<[^>]*>', ' ', t))"
   ]
  },
  {
   "cell_type": "markdown",
   "metadata": {},
   "source": [
    "### Remove URLs"
   ]
  },
  {
   "cell_type": "code",
   "execution_count": 22,
   "metadata": {},
   "outputs": [],
   "source": [
    "raw_df['content'] = raw_df['content'].apply(lambda t: re.sub(r'https?:\\/\\/\\S+|www\\.\\S+', ' ', t))"
   ]
  },
  {
   "cell_type": "markdown",
   "metadata": {},
   "source": [
    "### Remove punctuation"
   ]
  },
  {
   "cell_type": "code",
   "execution_count": 23,
   "metadata": {},
   "outputs": [],
   "source": [
    "raw_df['content'] = raw_df['content'].apply(lambda t: re.sub(r'[^\\w\\s]', ' ', t, flags=re.UNICODE))"
   ]
  },
  {
   "cell_type": "markdown",
   "metadata": {},
   "source": [
    "### Collapse multiple whitespaces and strip"
   ]
  },
  {
   "cell_type": "code",
   "execution_count": 24,
   "metadata": {},
   "outputs": [],
   "source": [
    "raw_df['content'] = raw_df['content'].apply(lambda t: re.sub(r'\\s+', ' ', t).strip())"
   ]
  },
  {
   "cell_type": "markdown",
   "metadata": {},
   "source": [
    "### Drop rows that became empty after cleaning and reindex"
   ]
  },
  {
   "cell_type": "code",
   "execution_count": 25,
   "metadata": {},
   "outputs": [
    {
     "data": {
      "text/plain": [
       "(113298, 10)"
      ]
     },
     "execution_count": 25,
     "metadata": {},
     "output_type": "execute_result"
    }
   ],
   "source": [
    "raw_df = raw_df[raw_df['content'].str.strip() != ''].reset_index(drop=True)\n",
    "raw_df.shape"
   ]
  },
  {
   "cell_type": "markdown",
   "metadata": {},
   "source": [
    "## Tokenization"
   ]
  },
  {
   "cell_type": "code",
   "execution_count": 34,
   "metadata": {},
   "outputs": [
    {
     "data": {
      "text/html": [
       "<div>\n",
       "<style scoped>\n",
       "    .dataframe tbody tr th:only-of-type {\n",
       "        vertical-align: middle;\n",
       "    }\n",
       "\n",
       "    .dataframe tbody tr th {\n",
       "        vertical-align: top;\n",
       "    }\n",
       "\n",
       "    .dataframe thead th {\n",
       "        text-align: right;\n",
       "    }\n",
       "</style>\n",
       "<table border=\"1\" class=\"dataframe\">\n",
       "  <thead>\n",
       "    <tr style=\"text-align: right;\">\n",
       "      <th></th>\n",
       "      <th>content</th>\n",
       "      <th>tokens</th>\n",
       "    </tr>\n",
       "  </thead>\n",
       "  <tbody>\n",
       "    <tr>\n",
       "      <th>0</th>\n",
       "      <td>gần đây thứ trưởng bộ phát triển kỹ thuật số t...</td>\n",
       "      <td>[gần, đây, thứ, trưởng, bộ, phát, triển, kỹ, t...</td>\n",
       "    </tr>\n",
       "    <tr>\n",
       "      <th>1</th>\n",
       "      <td>kết quả thi tốt nghiệp thpt năm 2022 cho thấy ...</td>\n",
       "      <td>[kết, quả, thi, tốt, nghiệp, thpt, năm, 2022, ...</td>\n",
       "    </tr>\n",
       "    <tr>\n",
       "      <th>2</th>\n",
       "      <td>thống đốc kentucky andy beshear hôm 31 7 cho h...</td>\n",
       "      <td>[thống, đốc, kentucky, andy, beshear, hôm, 31,...</td>\n",
       "    </tr>\n",
       "    <tr>\n",
       "      <th>3</th>\n",
       "      <td>vụ tai nạn giao thông liên hoàn trên phố đi bộ...</td>\n",
       "      <td>[vụ, tai, nạn, giao, thông, liên, hoàn, trên, ...</td>\n",
       "    </tr>\n",
       "    <tr>\n",
       "      <th>4</th>\n",
       "      <td>siêu sao bồ đào nha được hlv erik ten hag bố t...</td>\n",
       "      <td>[siêu, sao, bồ, đào, nha, được, hlv, erik, ten...</td>\n",
       "    </tr>\n",
       "  </tbody>\n",
       "</table>\n",
       "</div>"
      ],
      "text/plain": [
       "                                             content  \\\n",
       "0  gần đây thứ trưởng bộ phát triển kỹ thuật số t...   \n",
       "1  kết quả thi tốt nghiệp thpt năm 2022 cho thấy ...   \n",
       "2  thống đốc kentucky andy beshear hôm 31 7 cho h...   \n",
       "3  vụ tai nạn giao thông liên hoàn trên phố đi bộ...   \n",
       "4  siêu sao bồ đào nha được hlv erik ten hag bố t...   \n",
       "\n",
       "                                              tokens  \n",
       "0  [gần, đây, thứ, trưởng, bộ, phát, triển, kỹ, t...  \n",
       "1  [kết, quả, thi, tốt, nghiệp, thpt, năm, 2022, ...  \n",
       "2  [thống, đốc, kentucky, andy, beshear, hôm, 31,...  \n",
       "3  [vụ, tai, nạn, giao, thông, liên, hoàn, trên, ...  \n",
       "4  [siêu, sao, bồ, đào, nha, được, hlv, erik, ten...  "
      ]
     },
     "execution_count": 34,
     "metadata": {},
     "output_type": "execute_result"
    }
   ],
   "source": [
    "raw_df['tokens'] = raw_df['content'].apply(lambda x: word_tokenize(x))\n",
    "raw_df[['content', 'tokens']].head()"
   ]
  },
  {
   "cell_type": "markdown",
   "metadata": {},
   "source": [
    "## Stopword removal"
   ]
  },
  {
   "cell_type": "code",
   "execution_count": 40,
   "metadata": {},
   "outputs": [
    {
     "name": "stdout",
     "output_type": "stream",
     "text": [
      "Chosen stopwords: ['và', 'của', 'có', 'các', 'là', 'trong', 'với', 'cho', 'được', 'không', 'đã', 'người', 'một', 'công', 'để', 'khi', 'những', 'ở', 'này', 'thể', 'đến', 'từ', 'đó', 'về', 'năm', 'tại', 'đồng', 'nhiều', 'cũng', 'ra', 'vào', 'theo', 'việc', 'hiện', 'sẽ', 'đầu', 'trên', 'sự', 'thành', 'số', 'động', 'ngày', 'nhà', 'bị', 'như', 'nam', 'định', 'làm', 'quan', 'gia']\n"
     ]
    }
   ],
   "source": [
    "all_words = [word for tokens in raw_df['tokens'] for word in tokens]\n",
    "word_count = Counter(all_words)\n",
    "stop_words = [word for word, _ in word_count.most_common(50)]\n",
    "print(\"Chosen stopwords:\", stop_words)"
   ]
  },
  {
   "cell_type": "code",
   "execution_count": 41,
   "metadata": {},
   "outputs": [
    {
     "data": {
      "text/html": [
       "<div>\n",
       "<style scoped>\n",
       "    .dataframe tbody tr th:only-of-type {\n",
       "        vertical-align: middle;\n",
       "    }\n",
       "\n",
       "    .dataframe tbody tr th {\n",
       "        vertical-align: top;\n",
       "    }\n",
       "\n",
       "    .dataframe thead th {\n",
       "        text-align: right;\n",
       "    }\n",
       "</style>\n",
       "<table border=\"1\" class=\"dataframe\">\n",
       "  <thead>\n",
       "    <tr style=\"text-align: right;\">\n",
       "      <th></th>\n",
       "      <th>tokens</th>\n",
       "      <th>tokens_no_stop</th>\n",
       "    </tr>\n",
       "  </thead>\n",
       "  <tbody>\n",
       "    <tr>\n",
       "      <th>0</th>\n",
       "      <td>[gần, đây, thứ, trưởng, bộ, phát, triển, kỹ, t...</td>\n",
       "      <td>[gần, đây, thứ, trưởng, bộ, phát, triển, kỹ, t...</td>\n",
       "    </tr>\n",
       "    <tr>\n",
       "      <th>1</th>\n",
       "      <td>[kết, quả, thi, tốt, nghiệp, thpt, năm, 2022, ...</td>\n",
       "      <td>[kết, quả, thi, tốt, nghiệp, thpt, 2022, thấy,...</td>\n",
       "    </tr>\n",
       "    <tr>\n",
       "      <th>2</th>\n",
       "      <td>[thống, đốc, kentucky, andy, beshear, hôm, 31,...</td>\n",
       "      <td>[thống, đốc, kentucky, andy, beshear, hôm, 31,...</td>\n",
       "    </tr>\n",
       "    <tr>\n",
       "      <th>3</th>\n",
       "      <td>[vụ, tai, nạn, giao, thông, liên, hoàn, trên, ...</td>\n",
       "      <td>[vụ, tai, nạn, giao, thông, liên, hoàn, phố, đ...</td>\n",
       "    </tr>\n",
       "    <tr>\n",
       "      <th>4</th>\n",
       "      <td>[siêu, sao, bồ, đào, nha, được, hlv, erik, ten...</td>\n",
       "      <td>[siêu, sao, bồ, đào, nha, hlv, erik, ten, hag,...</td>\n",
       "    </tr>\n",
       "  </tbody>\n",
       "</table>\n",
       "</div>"
      ],
      "text/plain": [
       "                                              tokens  \\\n",
       "0  [gần, đây, thứ, trưởng, bộ, phát, triển, kỹ, t...   \n",
       "1  [kết, quả, thi, tốt, nghiệp, thpt, năm, 2022, ...   \n",
       "2  [thống, đốc, kentucky, andy, beshear, hôm, 31,...   \n",
       "3  [vụ, tai, nạn, giao, thông, liên, hoàn, trên, ...   \n",
       "4  [siêu, sao, bồ, đào, nha, được, hlv, erik, ten...   \n",
       "\n",
       "                                      tokens_no_stop  \n",
       "0  [gần, đây, thứ, trưởng, bộ, phát, triển, kỹ, t...  \n",
       "1  [kết, quả, thi, tốt, nghiệp, thpt, 2022, thấy,...  \n",
       "2  [thống, đốc, kentucky, andy, beshear, hôm, 31,...  \n",
       "3  [vụ, tai, nạn, giao, thông, liên, hoàn, phố, đ...  \n",
       "4  [siêu, sao, bồ, đào, nha, hlv, erik, ten, hag,...  "
      ]
     },
     "execution_count": 41,
     "metadata": {},
     "output_type": "execute_result"
    }
   ],
   "source": [
    "def remove_stopwords(tokens, stop_words):\n",
    "    return [word for word in tokens if word not in stop_words]\n",
    "\n",
    "raw_df['tokens_no_stop'] = raw_df['tokens'].apply(lambda x: remove_stopwords(x, stop_words))\n",
    "raw_df[['tokens', 'tokens_no_stop']].head()"
   ]
  }
 ],
 "metadata": {
  "kernelspec": {
   "display_name": "base",
   "language": "python",
   "name": "python3"
  },
  "language_info": {
   "codemirror_mode": {
    "name": "ipython",
    "version": 3
   },
   "file_extension": ".py",
   "mimetype": "text/x-python",
   "name": "python",
   "nbconvert_exporter": "python",
   "pygments_lexer": "ipython3",
   "version": "3.13.5"
  }
 },
 "nbformat": 4,
 "nbformat_minor": 2
}
